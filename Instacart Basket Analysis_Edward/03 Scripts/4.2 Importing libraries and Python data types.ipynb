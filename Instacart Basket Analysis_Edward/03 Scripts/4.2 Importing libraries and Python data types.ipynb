{
 "cells": [
  {
   "cell_type": "markdown",
   "id": "176e35ca-01b5-4bc2-9fa4-14900940724f",
   "metadata": {},
   "source": [
    "# 01. Importing Libraries"
   ]
  },
  {
   "cell_type": "code",
   "execution_count": 1,
   "id": "ebf218b6-3309-416d-97d1-bd8bf8d9b806",
   "metadata": {},
   "outputs": [],
   "source": [
    "# import libraries\n",
    "import pandas as pd\n",
    "import numpy as np\n",
    "import os"
   ]
  },
  {
   "cell_type": "markdown",
   "id": "159b74a8-190d-46f5-8d2b-d00d5236c107",
   "metadata": {},
   "source": [
    "# Working with Python Data types"
   ]
  },
  {
   "cell_type": "code",
   "execution_count": null,
   "id": "b6353173-2582-4974-98a6-48e39c9fc618",
   "metadata": {},
   "outputs": [],
   "source": [
    "## STEP 8"
   ]
  },
  {
   "cell_type": "code",
   "execution_count": 89,
   "id": "e3f602a3-4115-4592-afd5-c275e9197eb6",
   "metadata": {},
   "outputs": [
    {
     "data": {
      "text/plain": [
       "100"
      ]
     },
     "execution_count": 89,
     "metadata": {},
     "output_type": "execute_result"
    }
   ],
   "source": [
    "25+75"
   ]
  },
  {
   "cell_type": "code",
   "execution_count": 117,
   "id": "224da62d-d052-4a1b-8a72-472331c7fd71",
   "metadata": {},
   "outputs": [],
   "source": [
    "c=50"
   ]
  },
  {
   "cell_type": "code",
   "execution_count": 119,
   "id": "fb3f0f9d-e4f1-4bdc-9abc-bf2398daed5d",
   "metadata": {},
   "outputs": [],
   "source": [
    "d=c+50"
   ]
  },
  {
   "cell_type": "code",
   "execution_count": 121,
   "id": "1ea0b0d2-d5e6-47fd-8af1-6c0680ebe788",
   "metadata": {},
   "outputs": [
    {
     "name": "stdout",
     "output_type": "stream",
     "text": [
      "100\n"
     ]
    }
   ],
   "source": [
    "print(d)"
   ]
  },
  {
   "cell_type": "code",
   "execution_count": 97,
   "id": "a07fa568-f929-471f-baa0-b076a9b77401",
   "metadata": {},
   "outputs": [],
   "source": [
    "x=125"
   ]
  },
  {
   "cell_type": "code",
   "execution_count": 95,
   "id": "b1b451aa-2547-42d0-9001-7bd01bfddea6",
   "metadata": {},
   "outputs": [],
   "source": [
    "y=25"
   ]
  },
  {
   "cell_type": "code",
   "execution_count": 99,
   "id": "c5df7561-40e5-4eb3-8843-70055d4439c9",
   "metadata": {},
   "outputs": [
    {
     "data": {
      "text/plain": [
       "100"
      ]
     },
     "execution_count": 99,
     "metadata": {},
     "output_type": "execute_result"
    }
   ],
   "source": [
    "x-y"
   ]
  },
  {
   "cell_type": "code",
   "execution_count": 101,
   "id": "82a0f1fd-a709-4e06-ae9f-3c42b20e33a2",
   "metadata": {},
   "outputs": [],
   "source": [
    "a=500"
   ]
  },
  {
   "cell_type": "code",
   "execution_count": 103,
   "id": "6d93523c-8c7c-4e49-a1af-4e589edd1db6",
   "metadata": {},
   "outputs": [],
   "source": [
    "b=5"
   ]
  },
  {
   "cell_type": "code",
   "execution_count": 105,
   "id": "10ab33db-f312-4115-b595-35a2a5d8c27c",
   "metadata": {},
   "outputs": [
    {
     "data": {
      "text/plain": [
       "100.0"
      ]
     },
     "execution_count": 105,
     "metadata": {},
     "output_type": "execute_result"
    }
   ],
   "source": [
    "a/b"
   ]
  },
  {
   "cell_type": "code",
   "execution_count": 107,
   "id": "201ac0e3-677c-4660-a9ff-6a9ceb704408",
   "metadata": {},
   "outputs": [],
   "source": [
    "r=25.75"
   ]
  },
  {
   "cell_type": "code",
   "execution_count": 109,
   "id": "8eefcba9-23a8-4c99-8361-8ccc36877087",
   "metadata": {},
   "outputs": [],
   "source": [
    "t=2.59"
   ]
  },
  {
   "cell_type": "code",
   "execution_count": null,
   "id": "834159c1-ffa5-46da-aab1-a7f250a5adfe",
   "metadata": {},
   "outputs": [],
   "source": [
    "## STEP 8"
   ]
  },
  {
   "cell_type": "code",
   "execution_count": 111,
   "id": "96ee3d34-298a-4f03-bc37-c9aec62a8932",
   "metadata": {},
   "outputs": [
    {
     "data": {
      "text/plain": [
       "9.942084942084943"
      ]
     },
     "execution_count": 111,
     "metadata": {},
     "output_type": "execute_result"
    }
   ],
   "source": [
    "r/t"
   ]
  },
  {
   "cell_type": "code",
   "execution_count": 123,
   "id": "499f689e-b3e5-405b-979f-22836000faef",
   "metadata": {},
   "outputs": [
    {
     "data": {
      "text/plain": [
       "2.975609756097561"
      ]
     },
     "execution_count": 123,
     "metadata": {},
     "output_type": "execute_result"
    }
   ],
   "source": [
    "30.5/10.25"
   ]
  },
  {
   "cell_type": "code",
   "execution_count": 127,
   "id": "11455baf-c890-4bb1-8053-c30547ecccbf",
   "metadata": {},
   "outputs": [],
   "source": [
    "E='Choco'"
   ]
  },
  {
   "cell_type": "code",
   "execution_count": 145,
   "id": "899fcdca-c19a-40f1-a5e6-424e88137fc1",
   "metadata": {},
   "outputs": [],
   "source": [
    "F='late '"
   ]
  },
  {
   "cell_type": "code",
   "execution_count": 131,
   "id": "f4a04ffb-b128-468b-a122-d4cea2d6b4ed",
   "metadata": {},
   "outputs": [
    {
     "data": {
      "text/plain": [
       "'Chocolate'"
      ]
     },
     "execution_count": 131,
     "metadata": {},
     "output_type": "execute_result"
    }
   ],
   "source": [
    "E+F"
   ]
  },
  {
   "cell_type": "code",
   "execution_count": 159,
   "id": "4e192588-ec7d-4f4e-b66a-7f55b3791b16",
   "metadata": {},
   "outputs": [],
   "source": [
    "g=E+F+'is'"
   ]
  },
  {
   "cell_type": "code",
   "execution_count": 135,
   "id": "191cd67c-d3ad-4a82-ac8c-cab75ff5db04",
   "metadata": {},
   "outputs": [
    {
     "data": {
      "text/plain": [
       "str"
      ]
     },
     "execution_count": 135,
     "metadata": {},
     "output_type": "execute_result"
    }
   ],
   "source": [
    "type(g)"
   ]
  },
  {
   "cell_type": "code",
   "execution_count": 161,
   "id": "da9180cc-05bd-4d9b-827c-e6db38f4ff89",
   "metadata": {},
   "outputs": [],
   "source": [
    "h=' bitter!'"
   ]
  },
  {
   "cell_type": "code",
   "execution_count": 163,
   "id": "2757fd90-6207-4110-aa46-f5b5c082702d",
   "metadata": {},
   "outputs": [
    {
     "data": {
      "text/plain": [
       "'Chocolate is bitter!'"
      ]
     },
     "execution_count": 163,
     "metadata": {},
     "output_type": "execute_result"
    }
   ],
   "source": [
    "g+h"
   ]
  },
  {
   "cell_type": "code",
   "execution_count": 181,
   "id": "a8f6bf4b-f4ba-4dc2-8de2-68fbb90eb8fa",
   "metadata": {},
   "outputs": [],
   "source": [
    "i='Python '"
   ]
  },
  {
   "cell_type": "code",
   "execution_count": 175,
   "id": "759ab6d5-aa63-4e27-91c0-6aae4774f6c7",
   "metadata": {},
   "outputs": [],
   "source": [
    "j='is '"
   ]
  },
  {
   "cell_type": "code",
   "execution_count": 177,
   "id": "ea082b2a-8a65-497b-82c1-94b2f441ae0a",
   "metadata": {},
   "outputs": [],
   "source": [
    "g='robust.'"
   ]
  },
  {
   "cell_type": "code",
   "execution_count": 183,
   "id": "40d64bb4-b17b-4fc6-8177-7fbd7c7779a7",
   "metadata": {},
   "outputs": [
    {
     "name": "stdout",
     "output_type": "stream",
     "text": [
      "Python is robust.\n"
     ]
    }
   ],
   "source": [
    "print(i+j+g)"
   ]
  },
  {
   "cell_type": "code",
   "execution_count": null,
   "id": "bebf0e2d-9762-4480-a140-428e9135d061",
   "metadata": {},
   "outputs": [],
   "source": [
    "##Bonus task"
   ]
  },
  {
   "cell_type": "code",
   "execution_count": 185,
   "id": "0474d9dd-fbb2-4408-b204-c4b00c514ed3",
   "metadata": {},
   "outputs": [],
   "source": [
    "o='chocolate'"
   ]
  },
  {
   "cell_type": "code",
   "execution_count": 187,
   "id": "5c96b086-956e-458e-bfbb-d3992c27cde3",
   "metadata": {},
   "outputs": [
    {
     "name": "stdout",
     "output_type": "stream",
     "text": [
      "chocolatechocolatechocolatechocolatechocolatechocolatechocolatechocolatechocolatechocolatechocolatechocolatechocolatechocolatechocolatechocolatechocolatechocolatechocolatechocolatechocolatechocolatechocolatechocolatechocolatechocolatechocolatechocolatechocolatechocolatechocolatechocolatechocolatechocolatechocolatechocolatechocolatechocolatechocolatechocolatechocolatechocolatechocolatechocolatechocolatechocolatechocolatechocolatechocolatechocolatechocolatechocolatechocolatechocolatechocolatechocolatechocolatechocolatechocolatechocolatechocolatechocolatechocolatechocolatechocolatechocolatechocolatechocolatechocolatechocolatechocolatechocolatechocolatechocolatechocolatechocolatechocolatechocolatechocolatechocolatechocolatechocolatechocolatechocolatechocolatechocolatechocolatechocolatechocolatechocolatechocolatechocolatechocolatechocolatechocolatechocolatechocolatechocolatechocolatechocolate\n"
     ]
    }
   ],
   "source": [
    "print(o*100)"
   ]
  },
  {
   "cell_type": "code",
   "execution_count": null,
   "id": "ecada2e8-336d-41bd-a9ed-040639f17f8e",
   "metadata": {},
   "outputs": [],
   "source": []
  }
 ],
 "metadata": {
  "kernelspec": {
   "display_name": "Python 3 (ipykernel)",
   "language": "python",
   "name": "python3"
  },
  "language_info": {
   "codemirror_mode": {
    "name": "ipython",
    "version": 3
   },
   "file_extension": ".py",
   "mimetype": "text/x-python",
   "name": "python",
   "nbconvert_exporter": "python",
   "pygments_lexer": "ipython3",
   "version": "3.12.4"
  }
 },
 "nbformat": 4,
 "nbformat_minor": 5
}
