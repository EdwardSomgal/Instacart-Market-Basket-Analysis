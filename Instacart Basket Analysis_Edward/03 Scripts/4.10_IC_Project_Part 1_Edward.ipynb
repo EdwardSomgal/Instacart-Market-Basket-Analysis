{
 "cells": [
  {
   "cell_type": "markdown",
   "id": "34442dbd-45dc-4c78-bf1f-9f53fd5af937",
   "metadata": {},
   "source": [
    "# IC 4.10 Part 1 Data Privacy and low-activity customers data exclusion"
   ]
  },
  {
   "cell_type": "markdown",
   "id": "0d26c76e-ae71-415e-8624-e1169a562294",
   "metadata": {},
   "source": [
    "1. Import libraries\n",
    "2. Handling PII/Data Privacy by creating age and income into groups\n",
    "3. Regional segmentation of the data\n",
    "4. Excluding low-activity customers"
   ]
  },
  {
   "cell_type": "markdown",
   "id": "aefb3ae4-99f5-41f5-b2a0-2a12c6ef3da0",
   "metadata": {},
   "source": [
    "## 1. Import libraries"
   ]
  },
  {
   "cell_type": "code",
   "execution_count": 4,
   "id": "f93db918-d5b1-435b-84ed-3ec15aff42b2",
   "metadata": {},
   "outputs": [],
   "source": [
    "import pandas as pd\n",
    "import numpy as np\n",
    "import os\n",
    "import matplotlib.pyplot as plt\n",
    "from matplotlib.ticker import FuncFormatter\n",
    "import seaborn as sns\n",
    "import scipy"
   ]
  },
  {
   "cell_type": "code",
   "execution_count": 5,
   "id": "92b3d282-77d4-478c-ae9b-03b2e6c4d9a8",
   "metadata": {},
   "outputs": [],
   "source": [
    "#import data\n",
    "path = r\"C:\\Users\\hp\\08-08-2024 Instacart Basket Analysis\""
   ]
  },
  {
   "cell_type": "code",
   "execution_count": 6,
   "id": "282e7436-d2f8-4fc3-bdb7-96b138af9a02",
   "metadata": {},
   "outputs": [],
   "source": [
    "ords_prods_all = pd.read_pickle(os.path.join(path, '02 Data', 'Prepared Data', 'customers_ords_prods.pkl'))"
   ]
  },
  {
   "cell_type": "code",
   "execution_count": 7,
   "id": "e76d74e4-0146-43e5-9be3-c89f8ef681e9",
   "metadata": {},
   "outputs": [
    {
     "name": "stdout",
     "output_type": "stream",
     "text": [
      "<class 'pandas.core.frame.DataFrame'>\n",
      "RangeIndex: 32404859 entries, 0 to 32404858\n",
      "Data columns (total 29 columns):\n",
      " #   Column                  Dtype  \n",
      "---  ------                  -----  \n",
      " 0   user_id                 float64\n",
      " 1   first_name              object \n",
      " 2   last_name               object \n",
      " 3   gender                  object \n",
      " 4   state                   object \n",
      " 5   age                     int64  \n",
      " 6   date_joined             object \n",
      " 7   dependants              int64  \n",
      " 8   family_status           object \n",
      " 9   income                  int64  \n",
      " 10  product_id              float64\n",
      " 11  product_name            object \n",
      " 12  aisle_id                int16  \n",
      " 13  department_id           int16  \n",
      " 14  prices                  float32\n",
      " 15  order_id                int32  \n",
      " 16  order_number            int16  \n",
      " 17  order_dow               int8   \n",
      " 18  order_hour_of_day       int8   \n",
      " 19  days_since_prior_order  float32\n",
      " 20  add_to_cart_order       float16\n",
      " 21  reordered               float16\n",
      " 22  Average_order           float64\n",
      " 23  Max_order               int16  \n",
      " 24  loyalty_flag            object \n",
      " 25  mean_product_price      float32\n",
      " 26  spending_flag           object \n",
      " 27  order_median            float32\n",
      " 28  order_frequency         object \n",
      "dtypes: float16(2), float32(4), float64(3), int16(4), int32(1), int64(3), int8(2), object(10)\n",
      "memory usage: 4.9+ GB\n"
     ]
    }
   ],
   "source": [
    "ords_prods_all.info()"
   ]
  },
  {
   "cell_type": "markdown",
   "id": "92f10870-08ce-48e3-99ac-d1224c407551",
   "metadata": {},
   "source": [
    "The sensitive data here is first and last name, gender, family status, state, and income. These are the Personally Identifiable Information in our dataframe. These information has security implications and needs to be consulted with the client. Masking the data or anonymization of data can be done before proceeding with the analysis. \n"
   ]
  },
  {
   "cell_type": "markdown",
   "id": "429e8ad4-9483-4f7c-8238-ed5799b0fc63",
   "metadata": {},
   "source": [
    "Addressing PII\n",
    "We could create Age group into 4 categories: \n",
    "Conditions\n",
    "1. if age is in between 0 to 25 then group as Young adults\n",
    "2. if age is in between 26 to 44 then group as Adults\n",
    "3. if age is in between 45 to 64 then group as Old Adults\n",
    "4. if age is in between 65 and then group as above Senior"
   ]
  },
  {
   "cell_type": "markdown",
   "id": "40caf220-9204-4540-8c56-32dfd6fb8629",
   "metadata": {},
   "source": [
    "## 2. Handling PII/Data Privacy by creating age and income into groups"
   ]
  },
  {
   "cell_type": "code",
   "execution_count": 11,
   "id": "e53e2784-01af-46a8-b32a-2e57e59446b6",
   "metadata": {},
   "outputs": [
    {
     "data": {
      "text/plain": [
       "age_group\n",
       "old adults      10139691\n",
       "adults           9644895\n",
       "senior           8575084\n",
       "young adults     3573001\n",
       "other             472188\n",
       "Name: count, dtype: int64"
      ]
     },
     "execution_count": 11,
     "metadata": {},
     "output_type": "execute_result"
    }
   ],
   "source": [
    "result = []\n",
    "for age in ords_prods_all['age']: \n",
    "    if age < 25:\n",
    "        result.append('young adults')\n",
    "    elif age>25 and age<=44:\n",
    "        result.append('adults')\n",
    "    elif age>=45 and age<=64:\n",
    "        result.append('old adults')\n",
    "    elif age>=65:\n",
    "        result.append('senior')\n",
    "    else:\n",
    "        result.append('other')\n",
    "\n",
    "#adding age_group column and assigning the results\n",
    "ords_prods_all['age_group'] = result \n",
    "ords_prods_all['age_group'].value_counts()"
   ]
  },
  {
   "cell_type": "markdown",
   "id": "3f04dd26-2fdb-4d5f-9aa7-3f4670a75553",
   "metadata": {},
   "source": [
    "Income group condition: \n",
    "1. 0 to 49999 : low income\n",
    "2. 50000 to 99999 : moderate income\n",
    "3. 100000 and above : high income\n"
   ]
  },
  {
   "cell_type": "code",
   "execution_count": 13,
   "id": "198164a3-fd0b-4365-bafc-dbf0fe704d75",
   "metadata": {},
   "outputs": [
    {
     "data": {
      "text/plain": [
       "income_group\n",
       "high income        14814766\n",
       "moderate income    13996010\n",
       "low income          3594083\n",
       "Name: count, dtype: int64"
      ]
     },
     "execution_count": 13,
     "metadata": {},
     "output_type": "execute_result"
    }
   ],
   "source": [
    "result = []\n",
    "for income in ords_prods_all['income']: \n",
    "    if income <= 49999:\n",
    "        result.append('low income')\n",
    "    elif income>=50000 and income<=99999:\n",
    "        result.append('moderate income')\n",
    "    elif income>=100000:\n",
    "        result.append('high income')\n",
    "    else:\n",
    "        result.append('other')\n",
    "\n",
    "#adding income_group column and assigning the results\n",
    "ords_prods_all['income_group'] = result \n",
    "ords_prods_all['income_group'].value_counts()"
   ]
  },
  {
   "cell_type": "code",
   "execution_count": 14,
   "id": "147693ee-6e4e-4a24-96e0-31566337d694",
   "metadata": {},
   "outputs": [],
   "source": [
    "#dropping sensitive data columns - first_name and Last_name\n",
    "ords_prods_all_secured = ords_prods_all.drop(columns=['first_name', 'last_name'])"
   ]
  },
  {
   "cell_type": "code",
   "execution_count": 15,
   "id": "167b28b1-cf0a-4c80-a91e-44df935b61c1",
   "metadata": {},
   "outputs": [
    {
     "data": {
      "text/plain": [
       "(32404859, 29)"
      ]
     },
     "execution_count": 15,
     "metadata": {},
     "output_type": "execute_result"
    }
   ],
   "source": [
    "ords_prods_all_secured.shape"
   ]
  },
  {
   "cell_type": "code",
   "execution_count": 16,
   "id": "df01e5af-d58f-4320-85bf-8c1fbd4b1eb1",
   "metadata": {},
   "outputs": [
    {
     "data": {
      "text/plain": [
       "['user_id',\n",
       " 'gender',\n",
       " 'state',\n",
       " 'age',\n",
       " 'date_joined',\n",
       " 'dependants',\n",
       " 'family_status',\n",
       " 'income',\n",
       " 'product_id',\n",
       " 'product_name',\n",
       " 'aisle_id',\n",
       " 'department_id',\n",
       " 'prices',\n",
       " 'order_id',\n",
       " 'order_number',\n",
       " 'order_dow',\n",
       " 'order_hour_of_day',\n",
       " 'days_since_prior_order',\n",
       " 'add_to_cart_order',\n",
       " 'reordered',\n",
       " 'Average_order',\n",
       " 'Max_order',\n",
       " 'loyalty_flag',\n",
       " 'mean_product_price',\n",
       " 'spending_flag',\n",
       " 'order_median',\n",
       " 'order_frequency',\n",
       " 'age_group',\n",
       " 'income_group']"
      ]
     },
     "execution_count": 16,
     "metadata": {},
     "output_type": "execute_result"
    }
   ],
   "source": [
    "ords_prods_all_secured.columns.to_list()"
   ]
  },
  {
   "cell_type": "code",
   "execution_count": 17,
   "id": "f0067106-ec37-428d-b8ba-65cdd350f183",
   "metadata": {},
   "outputs": [
    {
     "data": {
      "text/html": [
       "<div>\n",
       "<style scoped>\n",
       "    .dataframe tbody tr th:only-of-type {\n",
       "        vertical-align: middle;\n",
       "    }\n",
       "\n",
       "    .dataframe tbody tr th {\n",
       "        vertical-align: top;\n",
       "    }\n",
       "\n",
       "    .dataframe thead th {\n",
       "        text-align: right;\n",
       "    }\n",
       "</style>\n",
       "<table border=\"1\" class=\"dataframe\">\n",
       "  <thead>\n",
       "    <tr style=\"text-align: right;\">\n",
       "      <th></th>\n",
       "      <th>user_id</th>\n",
       "      <th>gender</th>\n",
       "      <th>state</th>\n",
       "      <th>age</th>\n",
       "      <th>date_joined</th>\n",
       "      <th>dependants</th>\n",
       "      <th>family_status</th>\n",
       "      <th>income</th>\n",
       "      <th>product_id</th>\n",
       "      <th>product_name</th>\n",
       "      <th>...</th>\n",
       "      <th>reordered</th>\n",
       "      <th>Average_order</th>\n",
       "      <th>Max_order</th>\n",
       "      <th>loyalty_flag</th>\n",
       "      <th>mean_product_price</th>\n",
       "      <th>spending_flag</th>\n",
       "      <th>order_median</th>\n",
       "      <th>order_frequency</th>\n",
       "      <th>age_group</th>\n",
       "      <th>income_group</th>\n",
       "    </tr>\n",
       "  </thead>\n",
       "  <tbody>\n",
       "    <tr>\n",
       "      <th>0</th>\n",
       "      <td>26711.0</td>\n",
       "      <td>Female</td>\n",
       "      <td>Missouri</td>\n",
       "      <td>48</td>\n",
       "      <td>1/1/2017</td>\n",
       "      <td>3</td>\n",
       "      <td>married</td>\n",
       "      <td>165665</td>\n",
       "      <td>196.0</td>\n",
       "      <td>Soda</td>\n",
       "      <td>...</td>\n",
       "      <td>0.0</td>\n",
       "      <td>17.225802</td>\n",
       "      <td>8</td>\n",
       "      <td>New Customer</td>\n",
       "      <td>7.988889</td>\n",
       "      <td>Low spender</td>\n",
       "      <td>19.0</td>\n",
       "      <td>Regular customer</td>\n",
       "      <td>old adults</td>\n",
       "      <td>high income</td>\n",
       "    </tr>\n",
       "    <tr>\n",
       "      <th>1</th>\n",
       "      <td>26711.0</td>\n",
       "      <td>Female</td>\n",
       "      <td>Missouri</td>\n",
       "      <td>48</td>\n",
       "      <td>1/1/2017</td>\n",
       "      <td>3</td>\n",
       "      <td>married</td>\n",
       "      <td>165665</td>\n",
       "      <td>196.0</td>\n",
       "      <td>Soda</td>\n",
       "      <td>...</td>\n",
       "      <td>1.0</td>\n",
       "      <td>17.225802</td>\n",
       "      <td>8</td>\n",
       "      <td>New Customer</td>\n",
       "      <td>7.988889</td>\n",
       "      <td>Low spender</td>\n",
       "      <td>19.0</td>\n",
       "      <td>Regular customer</td>\n",
       "      <td>old adults</td>\n",
       "      <td>high income</td>\n",
       "    </tr>\n",
       "    <tr>\n",
       "      <th>2</th>\n",
       "      <td>26711.0</td>\n",
       "      <td>Female</td>\n",
       "      <td>Missouri</td>\n",
       "      <td>48</td>\n",
       "      <td>1/1/2017</td>\n",
       "      <td>3</td>\n",
       "      <td>married</td>\n",
       "      <td>165665</td>\n",
       "      <td>196.0</td>\n",
       "      <td>Soda</td>\n",
       "      <td>...</td>\n",
       "      <td>1.0</td>\n",
       "      <td>17.225802</td>\n",
       "      <td>8</td>\n",
       "      <td>New Customer</td>\n",
       "      <td>7.988889</td>\n",
       "      <td>Low spender</td>\n",
       "      <td>19.0</td>\n",
       "      <td>Regular customer</td>\n",
       "      <td>old adults</td>\n",
       "      <td>high income</td>\n",
       "    </tr>\n",
       "    <tr>\n",
       "      <th>3</th>\n",
       "      <td>26711.0</td>\n",
       "      <td>Female</td>\n",
       "      <td>Missouri</td>\n",
       "      <td>48</td>\n",
       "      <td>1/1/2017</td>\n",
       "      <td>3</td>\n",
       "      <td>married</td>\n",
       "      <td>165665</td>\n",
       "      <td>6184.0</td>\n",
       "      <td>Clementines</td>\n",
       "      <td>...</td>\n",
       "      <td>0.0</td>\n",
       "      <td>17.811403</td>\n",
       "      <td>8</td>\n",
       "      <td>New Customer</td>\n",
       "      <td>7.988889</td>\n",
       "      <td>Low spender</td>\n",
       "      <td>19.0</td>\n",
       "      <td>Regular customer</td>\n",
       "      <td>old adults</td>\n",
       "      <td>high income</td>\n",
       "    </tr>\n",
       "    <tr>\n",
       "      <th>4</th>\n",
       "      <td>26711.0</td>\n",
       "      <td>Female</td>\n",
       "      <td>Missouri</td>\n",
       "      <td>48</td>\n",
       "      <td>1/1/2017</td>\n",
       "      <td>3</td>\n",
       "      <td>married</td>\n",
       "      <td>165665</td>\n",
       "      <td>6184.0</td>\n",
       "      <td>Clementines</td>\n",
       "      <td>...</td>\n",
       "      <td>1.0</td>\n",
       "      <td>17.811403</td>\n",
       "      <td>8</td>\n",
       "      <td>New Customer</td>\n",
       "      <td>7.988889</td>\n",
       "      <td>Low spender</td>\n",
       "      <td>19.0</td>\n",
       "      <td>Regular customer</td>\n",
       "      <td>old adults</td>\n",
       "      <td>high income</td>\n",
       "    </tr>\n",
       "  </tbody>\n",
       "</table>\n",
       "<p>5 rows × 29 columns</p>\n",
       "</div>"
      ],
      "text/plain": [
       "   user_id  gender     state  age date_joined  dependants family_status  \\\n",
       "0  26711.0  Female  Missouri   48    1/1/2017           3       married   \n",
       "1  26711.0  Female  Missouri   48    1/1/2017           3       married   \n",
       "2  26711.0  Female  Missouri   48    1/1/2017           3       married   \n",
       "3  26711.0  Female  Missouri   48    1/1/2017           3       married   \n",
       "4  26711.0  Female  Missouri   48    1/1/2017           3       married   \n",
       "\n",
       "   income  product_id product_name  ...  reordered  Average_order  Max_order  \\\n",
       "0  165665       196.0         Soda  ...        0.0      17.225802          8   \n",
       "1  165665       196.0         Soda  ...        1.0      17.225802          8   \n",
       "2  165665       196.0         Soda  ...        1.0      17.225802          8   \n",
       "3  165665      6184.0  Clementines  ...        0.0      17.811403          8   \n",
       "4  165665      6184.0  Clementines  ...        1.0      17.811403          8   \n",
       "\n",
       "   loyalty_flag  mean_product_price  spending_flag  order_median  \\\n",
       "0  New Customer            7.988889    Low spender          19.0   \n",
       "1  New Customer            7.988889    Low spender          19.0   \n",
       "2  New Customer            7.988889    Low spender          19.0   \n",
       "3  New Customer            7.988889    Low spender          19.0   \n",
       "4  New Customer            7.988889    Low spender          19.0   \n",
       "\n",
       "    order_frequency   age_group  income_group  \n",
       "0  Regular customer  old adults   high income  \n",
       "1  Regular customer  old adults   high income  \n",
       "2  Regular customer  old adults   high income  \n",
       "3  Regular customer  old adults   high income  \n",
       "4  Regular customer  old adults   high income  \n",
       "\n",
       "[5 rows x 29 columns]"
      ]
     },
     "execution_count": 17,
     "metadata": {},
     "output_type": "execute_result"
    }
   ],
   "source": [
    "ords_prods_all_secured.head()"
   ]
  },
  {
   "cell_type": "code",
   "execution_count": 18,
   "id": "300d51a4-2fcb-49b3-9a94-257754e56449",
   "metadata": {},
   "outputs": [],
   "source": [
    "unique_states = ords_prods_all_secured['state'].unique()"
   ]
  },
  {
   "cell_type": "code",
   "execution_count": 19,
   "id": "1bb21596-6ebc-4bf0-8629-cc87394f39bb",
   "metadata": {},
   "outputs": [
    {
     "name": "stdout",
     "output_type": "stream",
     "text": [
      "['Missouri' 'New Mexico' 'Idaho' 'Iowa' 'Maryland' 'Kentucky' 'Montana'\n",
      " 'South Carolina' 'Texas' 'Virginia' 'Nevada' 'Nebraska' 'Georgia'\n",
      " 'Wyoming' 'Colorado' 'North Dakota' 'Wisconsin' 'Alaska' 'Vermont'\n",
      " 'Arkansas' 'Maine' 'North Carolina' 'West Virginia' 'Indiana' 'Oregon'\n",
      " 'Florida' 'California' 'Pennsylvania' 'Ohio' 'Connecticut' 'Arizona'\n",
      " 'Louisiana' 'Washington' 'New York' 'Mississippi' 'Oklahoma' 'Utah'\n",
      " 'New Hampshire' 'Hawaii' 'District of Columbia' 'Alabama' 'Massachusetts'\n",
      " 'Rhode Island' 'Michigan' 'New Jersey' 'Kansas' 'South Dakota'\n",
      " 'Minnesota' 'Illinois' 'Tennessee' 'Delaware']\n"
     ]
    }
   ],
   "source": [
    "print(unique_states)"
   ]
  },
  {
   "cell_type": "code",
   "execution_count": 20,
   "id": "8cb9f01b-7ada-4711-a0e3-efce295c8bfc",
   "metadata": {},
   "outputs": [
    {
     "data": {
      "text/plain": [
       "(32404859, 29)"
      ]
     },
     "execution_count": 20,
     "metadata": {},
     "output_type": "execute_result"
    }
   ],
   "source": [
    "ords_prods_all_secured.shape"
   ]
  },
  {
   "cell_type": "markdown",
   "id": "122e4217-db87-46da-b509-edf7e157d105",
   "metadata": {},
   "source": [
    "## 3. Regional segmentation of the data"
   ]
  },
  {
   "cell_type": "code",
   "execution_count": 22,
   "id": "5056ef8a-1d2b-4cb7-a153-f122ed4a4831",
   "metadata": {},
   "outputs": [],
   "source": [
    "# Define regions\n",
    "northeast_states = ['Maine', 'New Hampshire', 'Vermont', 'Massachusetts', 'Rhode Island', 'Connecticut', 'New York', 'Pennsylvania', 'New Jersey']\n",
    "midwest_states = ['Wisconsin', 'Michigan', 'Illinois', 'Indiana', 'Ohio', 'North Dakota', 'South Dakota', 'Nebraska', 'Kansas', 'Minnesota', 'Iowa', 'Missouri']\n",
    "southern_states = ['Delaware', 'Maryland', 'District of Columbia', 'Virginia', 'West Virginia', 'North Carolina', 'South Carolina', 'Georgia', 'Florida', 'Kentucky', 'Tennessee', 'Mississippi', 'Alabama', 'Oklahoma', 'Texas', 'Arkansas', 'Louisiana'] \n",
    "western_states = ['Idaho', 'Montana', 'Wyoming', 'Nevada', 'Utah', 'Colorado', 'Arizona', 'New Mexico', 'Alaska','Washington', 'Oregon', 'California', 'Hawaii']\n",
    "\n",
    "# Create a result list for the 'STATE' column  showing its corresponding region\n",
    "result = []\n",
    "\n",
    "for value in ords_prods_all_secured['state']: \n",
    "    if value in northeast_states:\n",
    "        result.append('Northeast')\n",
    "    elif value in midwest_states:\n",
    "        result.append('Midwest')\n",
    "    elif value in southern_states:\n",
    "        result.append('South')\n",
    "    elif value in western_states:\n",
    "        result.append('West')\n",
    "    else:\n",
    "       result.append('No region assigned')\n"
   ]
  },
  {
   "cell_type": "code",
   "execution_count": 23,
   "id": "6ffeedc5-3882-4c98-bf61-49082e80533e",
   "metadata": {},
   "outputs": [],
   "source": [
    "# creating new column\n",
    "ords_prods_all_secured['region'] = result"
   ]
  },
  {
   "cell_type": "code",
   "execution_count": 24,
   "id": "93034cd9-b15c-4e89-8452-b92aac2a4289",
   "metadata": {},
   "outputs": [],
   "source": [
    "crosstab = pd.crosstab(ords_prods_all_secured['region'], ords_prods_all_secured['spending_flag'], dropna = False)"
   ]
  },
  {
   "cell_type": "code",
   "execution_count": 25,
   "id": "4c9b68e2-ee5b-4b8d-806b-df8ba5f23e11",
   "metadata": {},
   "outputs": [
    {
     "name": "stdout",
     "output_type": "stream",
     "text": [
      "spending_flag  High spender  Low spender\n",
      "region                                  \n",
      "Midwest              155975      7441350\n",
      "Northeast            108225      5614511\n",
      "South                209691     10582194\n",
      "West                 160354      8132559\n"
     ]
    }
   ],
   "source": [
    "print(crosstab)"
   ]
  },
  {
   "cell_type": "code",
   "execution_count": 26,
   "id": "6eeb6c9a-2ab1-4e8e-9efd-07c4adfd5860",
   "metadata": {},
   "outputs": [
    {
     "data": {
      "image/png": "[encoded data removed]",
      "text/plain": [
       "<Figure size 640x480 with 1 Axes>"
      ]
     },
     "metadata": {},
     "output_type": "display_data"
    }
   ],
   "source": [
    "region_based_spending = crosstab.plot.bar(color = ['green', 'orange'])"
   ]
  },
  {
   "cell_type": "code",
   "execution_count": 27,
   "id": "e407e103-b04f-438a-9578-522af6105188",
   "metadata": {},
   "outputs": [],
   "source": [
    "region_based_spending.figure.savefig(os.path.join(path, '04 Analysis','Visualizations', 'region_based_spending.png'))"
   ]
  },
  {
   "cell_type": "markdown",
   "id": "16481c2e-7fa3-4516-9b8c-756b94c6814f",
   "metadata": {},
   "source": [
    "## 4. Excluding customers with less than 5 orders"
   ]
  },
  {
   "cell_type": "code",
   "execution_count": 29,
   "id": "709a5e85-c8f0-4c11-b1e7-e2b6dca904c9",
   "metadata": {},
   "outputs": [],
   "source": [
    "result = []\n",
    "\n",
    "for value in ords_prods_all_secured['Max_order']:\n",
    "    if value < 5:\n",
    "        result.append('low activity customer')\n",
    "    else: \n",
    "        result.append('high activity customer')"
   ]
  },
  {
   "cell_type": "code",
   "execution_count": 30,
   "id": "75b0cb19-9498-4e68-be39-8c5493b4cabd",
   "metadata": {},
   "outputs": [],
   "source": [
    "#creating new column\n",
    "ords_prods_all_secured['activity_level'] = result"
   ]
  },
  {
   "cell_type": "code",
   "execution_count": 31,
   "id": "5b496822-48e2-4494-aefb-98b79f0d0c31",
   "metadata": {},
   "outputs": [
    {
     "data": {
      "text/plain": [
       "activity_level\n",
       "high activity customer    30964564\n",
       "low activity customer      1440295\n",
       "Name: count, dtype: int64"
      ]
     },
     "execution_count": 31,
     "metadata": {},
     "output_type": "execute_result"
    }
   ],
   "source": [
    "ords_prods_all_secured['activity_level'].value_counts()"
   ]
  },
  {
   "cell_type": "code",
   "execution_count": 32,
   "id": "c5e7e0ed-664e-4ab6-a672-0a8bcd201f7d",
   "metadata": {},
   "outputs": [
    {
     "data": {
      "text/plain": [
       "user_id                    206209\n",
       "gender                          2\n",
       "state                          51\n",
       "age                            64\n",
       "date_joined                  1187\n",
       "dependants                      4\n",
       "family_status                   4\n",
       "income                     108012\n",
       "product_id                  49659\n",
       "product_name                49661\n",
       "aisle_id                      134\n",
       "department_id                  21\n",
       "prices                        240\n",
       "order_id                  3214685\n",
       "order_number                   99\n",
       "order_dow                       7\n",
       "order_hour_of_day              24\n",
       "days_since_prior_order         31\n",
       "add_to_cart_order             145\n",
       "reordered                       2\n",
       "Average_order                  21\n",
       "Max_order                      99\n",
       "loyalty_flag                    3\n",
       "mean_product_price         128315\n",
       "spending_flag                   2\n",
       "order_median                   61\n",
       "order_frequency                 3\n",
       "age_group                       5\n",
       "income_group                    3\n",
       "region                          4\n",
       "activity_level                  2\n",
       "dtype: int64"
      ]
     },
     "execution_count": 32,
     "metadata": {},
     "output_type": "execute_result"
    }
   ],
   "source": [
    "# Check count of 'user_id' without exclusion\n",
    "ords_prods_all_secured.nunique()"
   ]
  },
  {
   "cell_type": "code",
   "execution_count": 33,
   "id": "475be688-983e-4e96-82ab-0d7983daecab",
   "metadata": {},
   "outputs": [],
   "source": [
    "df_secured_excluded = ords_prods_all_secured[ords_prods_all_secured['activity_level'] != 'low activity customer']"
   ]
  },
  {
   "cell_type": "code",
   "execution_count": 34,
   "id": "c866a61b-ec07-44e0-8e7a-113da134d48b",
   "metadata": {},
   "outputs": [
    {
     "data": {
      "text/plain": [
       "user_id                    162631\n",
       "gender                          2\n",
       "state                          51\n",
       "age                            64\n",
       "date_joined                  1187\n",
       "dependants                      4\n",
       "family_status                   4\n",
       "income                      96069\n",
       "product_id                  49628\n",
       "product_name                49630\n",
       "aisle_id                      134\n",
       "department_id                  21\n",
       "prices                        240\n",
       "order_id                  3064375\n",
       "order_number                   99\n",
       "order_dow                       7\n",
       "order_hour_of_day              24\n",
       "days_since_prior_order         31\n",
       "add_to_cart_order             145\n",
       "reordered                       2\n",
       "Average_order                  21\n",
       "Max_order                      95\n",
       "loyalty_flag                    3\n",
       "mean_product_price         119957\n",
       "spending_flag                   2\n",
       "order_median                   61\n",
       "order_frequency                 3\n",
       "age_group                       5\n",
       "income_group                    3\n",
       "region                          4\n",
       "activity_level                  1\n",
       "dtype: int64"
      ]
     },
     "execution_count": 34,
     "metadata": {},
     "output_type": "execute_result"
    }
   ],
   "source": [
    "df_secured_excluded.nunique()"
   ]
  },
  {
   "cell_type": "code",
   "execution_count": 35,
   "id": "c8529546-c6e0-474d-b304-c8e04f16bdcc",
   "metadata": {},
   "outputs": [
    {
     "data": {
      "text/plain": [
       "(30964564, 31)"
      ]
     },
     "execution_count": 35,
     "metadata": {},
     "output_type": "execute_result"
    }
   ],
   "source": [
    "df_secured_excluded.shape #row numbers matches from the value count of high-activity customers"
   ]
  },
  {
   "cell_type": "code",
   "execution_count": 36,
   "id": "5c4da2c6-0875-496e-8f83-ec375142e46d",
   "metadata": {},
   "outputs": [],
   "source": [
    "# Export data\n",
    "df_secured_excluded.to_pickle(os.path.join(path, '02 Data', 'Prepared Data', 'secured_excluded.pkl'))"
   ]
  },
  {
   "cell_type": "markdown",
   "id": "60e31232-33fd-415b-b24a-1c140461db1c",
   "metadata": {},
   "source": [
    "## Customer Profiling"
   ]
  },
  {
   "cell_type": "markdown",
   "id": "ee1d32d5-468f-4704-84c0-24788cfb7600",
   "metadata": {
    "jp-MarkdownHeadingCollapsed": true
   },
   "source": [
    "1. Create a profiling variable based on age, income, certain goods ordered, and number of dependents.\n",
    "2. Analysis of “orders_day_of_week” and “order_hour_of_day” based on customer profiles.\n"
   ]
  },
  {
   "cell_type": "code",
   "execution_count": 39,
   "id": "8d42241b-d067-46cf-90d2-cb1ff036957f",
   "metadata": {},
   "outputs": [
    {
     "name": "stderr",
     "output_type": "stream",
     "text": [
      "C:\\Users\\hp\\anaconda3\\Lib\\site-packages\\pandas\\core\\nanops.py:1487: RuntimeWarning: overflow encountered in cast\n",
      "  return dtype.type(n)\n",
      "C:\\Users\\hp\\anaconda3\\Lib\\site-packages\\numpy\\core\\_methods.py:49: RuntimeWarning: overflow encountered in reduce\n",
      "  return umr_sum(a, axis, dtype, out, keepdims, initial, where)\n",
      "C:\\Users\\hp\\anaconda3\\Lib\\site-packages\\pandas\\core\\nanops.py:731: RuntimeWarning: invalid value encountered in scalar divide\n",
      "  the_mean = the_sum / count if count > 0 else np.nan\n",
      "C:\\Users\\hp\\anaconda3\\Lib\\site-packages\\pandas\\core\\nanops.py:1487: RuntimeWarning: overflow encountered in cast\n",
      "  return dtype.type(n)\n",
      "C:\\Users\\hp\\anaconda3\\Lib\\site-packages\\pandas\\core\\nanops.py:1487: RuntimeWarning: overflow encountered in cast\n",
      "  return dtype.type(n)\n",
      "C:\\Users\\hp\\anaconda3\\Lib\\site-packages\\numpy\\core\\_methods.py:49: RuntimeWarning: overflow encountered in reduce\n",
      "  return umr_sum(a, axis, dtype, out, keepdims, initial, where)\n",
      "C:\\Users\\hp\\anaconda3\\Lib\\site-packages\\pandas\\core\\nanops.py:731: RuntimeWarning: invalid value encountered in scalar divide\n",
      "  the_mean = the_sum / count if count > 0 else np.nan\n",
      "C:\\Users\\hp\\anaconda3\\Lib\\site-packages\\pandas\\core\\nanops.py:1487: RuntimeWarning: overflow encountered in cast\n",
      "  return dtype.type(n)\n"
     ]
    },
    {
     "data": {
      "text/html": [
       "<div>\n",
       "<style scoped>\n",
       "    .dataframe tbody tr th:only-of-type {\n",
       "        vertical-align: middle;\n",
       "    }\n",
       "\n",
       "    .dataframe tbody tr th {\n",
       "        vertical-align: top;\n",
       "    }\n",
       "\n",
       "    .dataframe thead th {\n",
       "        text-align: right;\n",
       "    }\n",
       "</style>\n",
       "<table border=\"1\" class=\"dataframe\">\n",
       "  <thead>\n",
       "    <tr style=\"text-align: right;\">\n",
       "      <th></th>\n",
       "      <th>user_id</th>\n",
       "      <th>age</th>\n",
       "      <th>dependants</th>\n",
       "      <th>income</th>\n",
       "      <th>product_id</th>\n",
       "      <th>aisle_id</th>\n",
       "      <th>department_id</th>\n",
       "      <th>prices</th>\n",
       "      <th>order_id</th>\n",
       "      <th>order_number</th>\n",
       "      <th>order_dow</th>\n",
       "      <th>order_hour_of_day</th>\n",
       "      <th>days_since_prior_order</th>\n",
       "      <th>add_to_cart_order</th>\n",
       "      <th>reordered</th>\n",
       "      <th>Average_order</th>\n",
       "      <th>Max_order</th>\n",
       "      <th>mean_product_price</th>\n",
       "      <th>order_median</th>\n",
       "    </tr>\n",
       "  </thead>\n",
       "  <tbody>\n",
       "    <tr>\n",
       "      <th>count</th>\n",
       "      <td>3.096456e+07</td>\n",
       "      <td>3.096456e+07</td>\n",
       "      <td>3.096456e+07</td>\n",
       "      <td>3.096456e+07</td>\n",
       "      <td>3.096456e+07</td>\n",
       "      <td>3.096456e+07</td>\n",
       "      <td>3.096456e+07</td>\n",
       "      <td>3.095969e+07</td>\n",
       "      <td>3.096456e+07</td>\n",
       "      <td>3.096456e+07</td>\n",
       "      <td>3.096456e+07</td>\n",
       "      <td>3.096456e+07</td>\n",
       "      <td>3.096456e+07</td>\n",
       "      <td>30964564.0</td>\n",
       "      <td>30964564.0</td>\n",
       "      <td>3.096456e+07</td>\n",
       "      <td>3.096456e+07</td>\n",
       "      <td>3.096456e+07</td>\n",
       "      <td>3.096456e+07</td>\n",
       "    </tr>\n",
       "    <tr>\n",
       "      <th>mean</th>\n",
       "      <td>1.029284e+05</td>\n",
       "      <td>4.946803e+01</td>\n",
       "      <td>1.501819e+00</td>\n",
       "      <td>9.967587e+04</td>\n",
       "      <td>2.559850e+04</td>\n",
       "      <td>7.118859e+01</td>\n",
       "      <td>9.922365e+00</td>\n",
       "      <td>7.790596e+00</td>\n",
       "      <td>1.710317e+06</td>\n",
       "      <td>1.783414e+01</td>\n",
       "      <td>2.741397e+00</td>\n",
       "      <td>1.341098e+01</td>\n",
       "      <td>1.023033e+01</td>\n",
       "      <td>NaN</td>\n",
       "      <td>NaN</td>\n",
       "      <td>1.714540e+01</td>\n",
       "      <td>3.442569e+01</td>\n",
       "      <td>1.193353e+01</td>\n",
       "      <td>9.337755e+00</td>\n",
       "    </tr>\n",
       "    <tr>\n",
       "      <th>std</th>\n",
       "      <td>5.947061e+04</td>\n",
       "      <td>1.848528e+01</td>\n",
       "      <td>1.118896e+00</td>\n",
       "      <td>4.314187e+04</td>\n",
       "      <td>1.408096e+04</td>\n",
       "      <td>3.822194e+01</td>\n",
       "      <td>6.282441e+00</td>\n",
       "      <td>4.109726e+00</td>\n",
       "      <td>9.873785e+05</td>\n",
       "      <td>1.763442e+01</td>\n",
       "      <td>2.089254e+00</td>\n",
       "      <td>4.248845e+00</td>\n",
       "      <td>8.309532e+00</td>\n",
       "      <td>0.0</td>\n",
       "      <td>0.0</td>\n",
       "      <td>8.646924e-01</td>\n",
       "      <td>2.489504e+01</td>\n",
       "      <td>7.990331e+01</td>\n",
       "      <td>6.033489e+00</td>\n",
       "    </tr>\n",
       "    <tr>\n",
       "      <th>min</th>\n",
       "      <td>1.000000e+00</td>\n",
       "      <td>1.800000e+01</td>\n",
       "      <td>0.000000e+00</td>\n",
       "      <td>2.590300e+04</td>\n",
       "      <td>1.000000e+00</td>\n",
       "      <td>1.000000e+00</td>\n",
       "      <td>1.000000e+00</td>\n",
       "      <td>1.000000e+00</td>\n",
       "      <td>2.000000e+00</td>\n",
       "      <td>1.000000e+00</td>\n",
       "      <td>0.000000e+00</td>\n",
       "      <td>0.000000e+00</td>\n",
       "      <td>0.000000e+00</td>\n",
       "      <td>-128.0</td>\n",
       "      <td>0.0</td>\n",
       "      <td>1.521575e+01</td>\n",
       "      <td>5.000000e+00</td>\n",
       "      <td>1.000000e+00</td>\n",
       "      <td>0.000000e+00</td>\n",
       "    </tr>\n",
       "    <tr>\n",
       "      <th>25%</th>\n",
       "      <td>5.140900e+04</td>\n",
       "      <td>3.300000e+01</td>\n",
       "      <td>1.000000e+00</td>\n",
       "      <td>6.729200e+04</td>\n",
       "      <td>1.354400e+04</td>\n",
       "      <td>3.100000e+01</td>\n",
       "      <td>4.000000e+00</td>\n",
       "      <td>4.200000e+00</td>\n",
       "      <td>8.554120e+05</td>\n",
       "      <td>5.000000e+00</td>\n",
       "      <td>1.000000e+00</td>\n",
       "      <td>1.000000e+01</td>\n",
       "      <td>4.000000e+00</td>\n",
       "      <td>3.0</td>\n",
       "      <td>0.0</td>\n",
       "      <td>1.658354e+01</td>\n",
       "      <td>1.400000e+01</td>\n",
       "      <td>7.392889e+00</td>\n",
       "      <td>6.000000e+00</td>\n",
       "    </tr>\n",
       "    <tr>\n",
       "      <th>50%</th>\n",
       "      <td>1.025860e+05</td>\n",
       "      <td>4.900000e+01</td>\n",
       "      <td>2.000000e+00</td>\n",
       "      <td>9.676500e+04</td>\n",
       "      <td>2.528800e+04</td>\n",
       "      <td>8.300000e+01</td>\n",
       "      <td>9.000000e+00</td>\n",
       "      <td>7.400000e+00</td>\n",
       "      <td>1.710404e+06</td>\n",
       "      <td>1.200000e+01</td>\n",
       "      <td>3.000000e+00</td>\n",
       "      <td>1.300000e+01</td>\n",
       "      <td>7.000000e+00</td>\n",
       "      <td>6.0</td>\n",
       "      <td>1.0</td>\n",
       "      <td>1.722580e+01</td>\n",
       "      <td>2.800000e+01</td>\n",
       "      <td>7.825143e+00</td>\n",
       "      <td>7.000000e+00</td>\n",
       "    </tr>\n",
       "    <tr>\n",
       "      <th>75%</th>\n",
       "      <td>1.543870e+05</td>\n",
       "      <td>6.500000e+01</td>\n",
       "      <td>3.000000e+00</td>\n",
       "      <td>1.281020e+05</td>\n",
       "      <td>3.794700e+04</td>\n",
       "      <td>1.070000e+02</td>\n",
       "      <td>1.600000e+01</td>\n",
       "      <td>1.130000e+01</td>\n",
       "      <td>2.565206e+06</td>\n",
       "      <td>2.500000e+01</td>\n",
       "      <td>5.000000e+00</td>\n",
       "      <td>1.600000e+01</td>\n",
       "      <td>1.400000e+01</td>\n",
       "      <td>11.0</td>\n",
       "      <td>1.0</td>\n",
       "      <td>1.781140e+01</td>\n",
       "      <td>4.800000e+01</td>\n",
       "      <td>8.249597e+00</td>\n",
       "      <td>1.100000e+01</td>\n",
       "    </tr>\n",
       "    <tr>\n",
       "      <th>max</th>\n",
       "      <td>2.062090e+05</td>\n",
       "      <td>8.100000e+01</td>\n",
       "      <td>3.000000e+00</td>\n",
       "      <td>5.939010e+05</td>\n",
       "      <td>4.968800e+04</td>\n",
       "      <td>1.340000e+02</td>\n",
       "      <td>2.100000e+01</td>\n",
       "      <td>2.500000e+01</td>\n",
       "      <td>3.421083e+06</td>\n",
       "      <td>9.900000e+01</td>\n",
       "      <td>6.000000e+00</td>\n",
       "      <td>2.300000e+01</td>\n",
       "      <td>3.000000e+01</td>\n",
       "      <td>127.0</td>\n",
       "      <td>1.0</td>\n",
       "      <td>2.290238e+01</td>\n",
       "      <td>9.900000e+01</td>\n",
       "      <td>1.500694e+04</td>\n",
       "      <td>3.000000e+01</td>\n",
       "    </tr>\n",
       "  </tbody>\n",
       "</table>\n",
       "</div>"
      ],
      "text/plain": [
       "            user_id           age    dependants        income    product_id  \\\n",
       "count  3.096456e+07  3.096456e+07  3.096456e+07  3.096456e+07  3.096456e+07   \n",
       "mean   1.029284e+05  4.946803e+01  1.501819e+00  9.967587e+04  2.559850e+04   \n",
       "std    5.947061e+04  1.848528e+01  1.118896e+00  4.314187e+04  1.408096e+04   \n",
       "min    1.000000e+00  1.800000e+01  0.000000e+00  2.590300e+04  1.000000e+00   \n",
       "25%    5.140900e+04  3.300000e+01  1.000000e+00  6.729200e+04  1.354400e+04   \n",
       "50%    1.025860e+05  4.900000e+01  2.000000e+00  9.676500e+04  2.528800e+04   \n",
       "75%    1.543870e+05  6.500000e+01  3.000000e+00  1.281020e+05  3.794700e+04   \n",
       "max    2.062090e+05  8.100000e+01  3.000000e+00  5.939010e+05  4.968800e+04   \n",
       "\n",
       "           aisle_id  department_id        prices      order_id  order_number  \\\n",
       "count  3.096456e+07   3.096456e+07  3.095969e+07  3.096456e+07  3.096456e+07   \n",
       "mean   7.118859e+01   9.922365e+00  7.790596e+00  1.710317e+06  1.783414e+01   \n",
       "std    3.822194e+01   6.282441e+00  4.109726e+00  9.873785e+05  1.763442e+01   \n",
       "min    1.000000e+00   1.000000e+00  1.000000e+00  2.000000e+00  1.000000e+00   \n",
       "25%    3.100000e+01   4.000000e+00  4.200000e+00  8.554120e+05  5.000000e+00   \n",
       "50%    8.300000e+01   9.000000e+00  7.400000e+00  1.710404e+06  1.200000e+01   \n",
       "75%    1.070000e+02   1.600000e+01  1.130000e+01  2.565206e+06  2.500000e+01   \n",
       "max    1.340000e+02   2.100000e+01  2.500000e+01  3.421083e+06  9.900000e+01   \n",
       "\n",
       "          order_dow  order_hour_of_day  days_since_prior_order  \\\n",
       "count  3.096456e+07       3.096456e+07            3.096456e+07   \n",
       "mean   2.741397e+00       1.341098e+01            1.023033e+01   \n",
       "std    2.089254e+00       4.248845e+00            8.309532e+00   \n",
       "min    0.000000e+00       0.000000e+00            0.000000e+00   \n",
       "25%    1.000000e+00       1.000000e+01            4.000000e+00   \n",
       "50%    3.000000e+00       1.300000e+01            7.000000e+00   \n",
       "75%    5.000000e+00       1.600000e+01            1.400000e+01   \n",
       "max    6.000000e+00       2.300000e+01            3.000000e+01   \n",
       "\n",
       "       add_to_cart_order   reordered  Average_order     Max_order  \\\n",
       "count         30964564.0  30964564.0   3.096456e+07  3.096456e+07   \n",
       "mean                 NaN         NaN   1.714540e+01  3.442569e+01   \n",
       "std                  0.0         0.0   8.646924e-01  2.489504e+01   \n",
       "min               -128.0         0.0   1.521575e+01  5.000000e+00   \n",
       "25%                  3.0         0.0   1.658354e+01  1.400000e+01   \n",
       "50%                  6.0         1.0   1.722580e+01  2.800000e+01   \n",
       "75%                 11.0         1.0   1.781140e+01  4.800000e+01   \n",
       "max                127.0         1.0   2.290238e+01  9.900000e+01   \n",
       "\n",
       "       mean_product_price  order_median  \n",
       "count        3.096456e+07  3.096456e+07  \n",
       "mean         1.193353e+01  9.337755e+00  \n",
       "std          7.990331e+01  6.033489e+00  \n",
       "min          1.000000e+00  0.000000e+00  \n",
       "25%          7.392889e+00  6.000000e+00  \n",
       "50%          7.825143e+00  7.000000e+00  \n",
       "75%          8.249597e+00  1.100000e+01  \n",
       "max          1.500694e+04  3.000000e+01  "
      ]
     },
     "execution_count": 39,
     "metadata": {},
     "output_type": "execute_result"
    }
   ],
   "source": [
    "df_secured_excluded.describe()"
   ]
  },
  {
   "cell_type": "markdown",
   "id": "2e272ed3-d7c4-46ee-a8cf-9c33e68094bd",
   "metadata": {},
   "source": [
    "### Profiling based on age"
   ]
  },
  {
   "cell_type": "code",
   "execution_count": 41,
   "id": "1865678e-1044-498d-8094-1d3f0c3a01f1",
   "metadata": {},
   "outputs": [
    {
     "data": {
      "text/plain": [
       "age_group\n",
       "old adults      9690051\n",
       "adults          9214451\n",
       "senior          8195544\n",
       "young adults    3415194\n",
       "other            449324\n",
       "Name: count, dtype: int64"
      ]
     },
     "execution_count": 41,
     "metadata": {},
     "output_type": "execute_result"
    }
   ],
   "source": [
    "df_secured_excluded['age_group'].value_counts()"
   ]
  },
  {
   "cell_type": "code",
   "execution_count": 42,
   "id": "9a535aeb-88c7-4cc6-b695-147c93e9bb6e",
   "metadata": {},
   "outputs": [
    {
     "data": {
      "image/png": "[encoded data removed]",
      "text/plain": [
       "<Figure size 600x600 with 1 Axes>"
      ]
     },
     "metadata": {},
     "output_type": "display_data"
    }
   ],
   "source": [
    "# Creating Pie Chart of Age Groups\n",
    "age_group_counts = df_secured_excluded['age_group'].value_counts()\n",
    "\n",
    "# Plot the pie chart\n",
    "age_group_counts.plot(figsize=(6, 6))\n",
    "age_group_pie_chart = age_group_counts.plot.pie(\n",
    "    labels=['young adults: up to 25 years', 'adults: 26 to 44 years', 'old adults: 45 to 64 years', 'senior: 65 and above', 'other: age not assigned'],\n",
    "    autopct='%.1f%%',\n",
    "    wedgeprops={'edgecolor': 'black'}\n",
    ")\n"
   ]
  },
  {
   "cell_type": "code",
   "execution_count": 43,
   "id": "e8d845d6-6cb0-40d0-866c-d972860c4a10",
   "metadata": {},
   "outputs": [],
   "source": [
    "age_group_pie_chart.figure.savefig(os.path.join(path, '04 Analysis', 'Visualizations', 'Pie_chart_age_4.10.png'))"
   ]
  },
  {
   "cell_type": "code",
   "execution_count": 44,
   "id": "927cff8d-6b0a-4ddb-a7ca-83a4847a08ff",
   "metadata": {},
   "outputs": [
    {
     "data": {
      "image/png": "[encoded data removed]",
      "text/plain": [
       "<Figure size 640x480 with 1 Axes>"
      ]
     },
     "metadata": {},
     "output_type": "display_data"
    }
   ],
   "source": [
    "age_group_bar = age_group_counts.plot.bar()\n",
    "plt.title('Age Group')\n",
    "plt.xlabel('')\n",
    "plt.ylabel('Count')\n",
    "plt.tight_layout\n",
    "\n",
    "# Wrap the x-tick labels\n",
    "labels = [label.get_text() for label in age_group_bar.get_xticklabels()]\n",
    "wrapped_labels = [textwrap.fill(label, 10) for label in labels]\n",
    "age_group_bar.set_xticklabels(wrapped_labels, rotation=0)\n",
    "\n",
    "plt.show()"
   ]
  },
  {
   "cell_type": "code",
   "execution_count": 45,
   "id": "beb5fbab-2d8e-42b0-8451-6b658dfce72a",
   "metadata": {},
   "outputs": [],
   "source": [
    "age_group_bar.figure.savefig(os.path.join(path, '04 Analysis', 'Visualizations', 'bar_chart_age_4.10.png'))"
   ]
  },
  {
   "cell_type": "markdown",
   "id": "6adc5d92-24ba-427a-9f98-0e7b28aa35f1",
   "metadata": {},
   "source": [
    "### Profiling based on income"
   ]
  },
  {
   "cell_type": "code",
   "execution_count": 47,
   "id": "26b49446-0a55-4b95-89e1-298641e619f1",
   "metadata": {},
   "outputs": [],
   "source": [
    "income_group_bar = df_secured_excluded['income_group'].value_counts()"
   ]
  },
  {
   "cell_type": "code",
   "execution_count": 48,
   "id": "9ca2824d-d2a1-41ad-bd97-b6ad6fbbb3a0",
   "metadata": {},
   "outputs": [
    {
     "data": {
      "image/png": "[encoded data removed]",
      "text/plain": [
       "<Figure size 640x480 with 1 Axes>"
      ]
     },
     "metadata": {},
     "output_type": "display_data"
    }
   ],
   "source": [
    "income_group_bar = income_group_bar.plot.bar(edgecolor='black')\n",
    "plt.title('Income Group')\n",
    "plt.xlabel('')\n",
    "plt.ylabel('Count')\n",
    "\n",
    "plt.tight_layout\n",
    "plt.show()"
   ]
  },
  {
   "cell_type": "code",
   "execution_count": 49,
   "id": "1489a85d-5611-4c34-bef0-76b4212a8945",
   "metadata": {},
   "outputs": [],
   "source": [
    "income_group_bar.figure.savefig(os.path.join(path, '04 Analysis', 'Visualizations', 'bar_chart_income_4.10.png'))"
   ]
  },
  {
   "cell_type": "markdown",
   "id": "97a25b5b-1060-40f4-be5d-45b51fbe504f",
   "metadata": {},
   "source": [
    "### Profiling based on dependant"
   ]
  },
  {
   "cell_type": "code",
   "execution_count": 51,
   "id": "60d8a26a-f9d9-4854-8bdc-64ef22311720",
   "metadata": {},
   "outputs": [
    {
     "name": "stderr",
     "output_type": "stream",
     "text": [
      "C:\\Users\\hp\\AppData\\Local\\Temp\\ipykernel_17932\\3155879393.py:13: SettingWithCopyWarning: \n",
      "A value is trying to be set on a copy of a slice from a DataFrame.\n",
      "Try using .loc[row_indexer,col_indexer] = value instead\n",
      "\n",
      "See the caveats in the documentation: https://pandas.pydata.org/pandas-docs/stable/user_guide/indexing.html#returning-a-view-versus-a-copy\n",
      "  df_secured_excluded['dependants_category'] = result\n"
     ]
    },
    {
     "data": {
      "text/plain": [
       "dependants_category\n",
       "small     15458787\n",
       "large      7772516\n",
       "medium     7733261\n",
       "Name: count, dtype: int64"
      ]
     },
     "execution_count": 51,
     "metadata": {},
     "output_type": "execute_result"
    }
   ],
   "source": [
    "result = []\n",
    "\n",
    "for dependants in df_secured_excluded['dependants']: \n",
    "    if dependants <= 1:\n",
    "        result.append('small')\n",
    "    elif dependants == 2:\n",
    "        result.append('medium')\n",
    "    elif dependants >= 3:\n",
    "        result.append('large')\n",
    "    else:\n",
    "        result.append('No data')\n",
    "\n",
    "df_secured_excluded['dependants_category'] = result\n",
    "df_secured_excluded['dependants_category'].value_counts()"
   ]
  },
  {
   "cell_type": "code",
   "execution_count": 52,
   "id": "d00c0cde-6d43-49ae-ae9b-cac8a5c35354",
   "metadata": {},
   "outputs": [
    {
     "data": {
      "text/plain": [
       "Text(0, 0.5, '')"
      ]
     },
     "execution_count": 52,
     "metadata": {},
     "output_type": "execute_result"
    },
    {
     "data": {
      "image/png": "[encoded data removed]",
      "text/plain": [
       "<Figure size 600x600 with 1 Axes>"
      ]
     },
     "metadata": {},
     "output_type": "display_data"
    }
   ],
   "source": [
    "# Creating Bar Chart of Dependants Groups\n",
    "dependants_group_counts = df_secured_excluded['dependants_category'].value_counts()\n",
    "plt.figure(figsize=(6,6))\n",
    "dependant_category_bar = dependants_group_counts.plot.bar(edgecolor='black', rot=0)\n",
    "plt.title('Dependant Category')\n",
    "plt.xlabel('')\n",
    "plt.ylabel('')\n"
   ]
  },
  {
   "cell_type": "code",
   "execution_count": 53,
   "id": "7e2a5412-cf79-43e1-a580-32c2742eaade",
   "metadata": {},
   "outputs": [],
   "source": [
    "dependant_category_bar.figure.savefig(os.path.join(path, '04 Analysis', 'Visualizations', 'bar_chart_dependant_4.10.png'))"
   ]
  },
  {
   "cell_type": "code",
   "execution_count": 54,
   "id": "08040a64-2bce-44b3-a64f-f0374b82f970",
   "metadata": {},
   "outputs": [],
   "source": [
    "df_secured_excluded = df_secured_excluded.rename(columns={'order_dow': 'order_day_of_week'})"
   ]
  },
  {
   "cell_type": "code",
   "execution_count": 55,
   "id": "afd8c414-8cb2-4140-b975-5fc125a45266",
   "metadata": {},
   "outputs": [
    {
     "data": {
      "image/png": "[encoded data removed]",
      "text/plain": [
       "<Figure size 600x600 with 1 Axes>"
      ]
     },
     "metadata": {},
     "output_type": "display_data"
    }
   ],
   "source": [
    "# Creating day names\n",
    "day_names = {0: 'Saturday', 1: 'Sunday', 2: 'Monday', 3: 'Tuesday', 4: 'Wednesday', 5: 'Thursday', 6: 'Friday'}\n",
    "\n",
    "# Creating Bar Chart\n",
    "plt.figure(figsize=(6, 6))\n",
    "ords_day_by_week = df_secured_excluded['order_day_of_week'].value_counts().sort_index().plot.bar(edgecolor='black', rot=0)\n",
    "plt.title('Orders by Day of Week')\n",
    "plt.xlabel('Day of Week')\n",
    "plt.ylabel('Count')\n",
    "plt.xticks(ticks=range(7), labels=[day_names[i] for i in range(7)])\n",
    "plt.tight_layout()\n",
    "plt.show()"
   ]
  },
  {
   "cell_type": "code",
   "execution_count": 56,
   "id": "8c0b1990-ba0a-4461-b8e1-36a5ce8d648a",
   "metadata": {},
   "outputs": [],
   "source": [
    "ords_day_by_week.figure.savefig(os.path.join(path, '04 Analysis', 'Visualizations', 'bar_ords_day_by_week_4.10.png'))"
   ]
  },
  {
   "cell_type": "markdown",
   "id": "a5f7e67c-16d6-4cc3-b29e-a70d095a9080",
   "metadata": {},
   "source": [
    "## Weekend/Weekday Order Analysis"
   ]
  },
  {
   "cell_type": "code",
   "execution_count": 58,
   "id": "dc49e5b8-4ed7-47e5-a224-8b07eafb5e25",
   "metadata": {},
   "outputs": [
    {
     "data": {
      "text/plain": [
       "order_dow_weekend\n",
       "weekday    19644268\n",
       "weekend    11320296\n",
       "Name: count, dtype: int64"
      ]
     },
     "execution_count": 58,
     "metadata": {},
     "output_type": "execute_result"
    }
   ],
   "source": [
    "result = []\n",
    "\n",
    "for order_day_of_week in df_secured_excluded['order_day_of_week']: \n",
    "    if order_day_of_week in [0, 1]:  # 0 and 1 represent the weekend days\n",
    "        result.append('weekend')\n",
    "    elif order_day_of_week in [2, 3, 4, 5, 6]:  # 2-6 represent the weekday days\n",
    "        result.append('weekday')\n",
    "    else:\n",
    "        result.append('No day assigned')\n",
    "\n",
    "df_secured_excluded['order_dow_weekend'] = result\n",
    "df_secured_excluded['order_dow_weekend'].value_counts()\n"
   ]
  },
  {
   "cell_type": "code",
   "execution_count": 59,
   "id": "1cafeff8-3c1b-46f2-9f6d-dd1236bc8fab",
   "metadata": {},
   "outputs": [
    {
     "data": {
      "image/png": "[encoded data removed]",
      "text/plain": [
       "<Figure size 500x700 with 1 Axes>"
      ]
     },
     "metadata": {},
     "output_type": "display_data"
    }
   ],
   "source": [
    "# Creating Bar Chart of Weekday Order Groups\n",
    "order_dow_weekend_count = df_secured_excluded['order_dow_weekend'].value_counts()\n",
    "plt.figure(figsize=(5,7))\n",
    "order_dow_weekend_count_bar = order_dow_weekend_count.plot.bar(edgecolor='black', rot=0)\n",
    "plt.title('Weekday/Weekend Order Placement')\n",
    "plt.xlabel('')\n",
    "plt.ylabel('Count')\n",
    "plt.tight_layout\n",
    "plt.show()"
   ]
  },
  {
   "cell_type": "code",
   "execution_count": 60,
   "id": "dc3fab63-c3f4-47b7-876b-108ec950a456",
   "metadata": {},
   "outputs": [],
   "source": [
    "order_dow_weekend_count_bar.figure.savefig(os.path.join(path, '04 Analysis', 'Visualizations', 'bar_ords_weekday_weekend_4.10.png'))"
   ]
  },
  {
   "cell_type": "markdown",
   "id": "303d1ffa-a25e-4f42-969d-78fd23e4e29b",
   "metadata": {},
   "source": [
    "## Order by daily hour"
   ]
  },
  {
   "cell_type": "code",
   "execution_count": 62,
   "id": "016fe44c-3edd-4f3e-9ba2-a78a94c4eac9",
   "metadata": {},
   "outputs": [
    {
     "data": {
      "image/png": "[encoded data removed]",
      "text/plain": [
       "<Figure size 600x600 with 1 Axes>"
      ]
     },
     "metadata": {},
     "output_type": "display_data"
    }
   ],
   "source": [
    "plt.figure(figsize=(6, 6))\n",
    "ords_hour_by_day=df_secured_excluded['order_hour_of_day'].plot.hist(bins=24, edgecolor='black')\n",
    "plt.title('Orders by Daily Hour')\n",
    "plt.xlabel('Hour of Day')\n",
    "plt.ylabel('Frequency')\n",
    "plt.xticks(range(0, 24))\n",
    "plt.tight_layout()\n",
    "plt.show()"
   ]
  },
  {
   "cell_type": "code",
   "execution_count": 63,
   "id": "fd96950d-b6b5-4154-9e9c-8bdc1dce6ca1",
   "metadata": {},
   "outputs": [],
   "source": [
    "#exporting histogram\n",
    "ords_hour_by_day.figure.savefig(os.path.join(path,'04 Analysis','Visualizations','ords_hour_by_day_hist.png'))"
   ]
  },
  {
   "cell_type": "markdown",
   "id": "5effa884-463a-4453-b1e8-a01e0998b176",
   "metadata": {},
   "source": [
    "## Orders based on marital status"
   ]
  },
  {
   "cell_type": "code",
   "execution_count": 65,
   "id": "f84a9c51-e45c-4608-815f-db9358e73e49",
   "metadata": {},
   "outputs": [
    {
     "data": {
      "text/plain": [
       "family_status\n",
       "married                             21743711\n",
       "single                               5094410\n",
       "divorced/widowed                     2645271\n",
       "living with parents and siblings     1481172\n",
       "Name: count, dtype: int64"
      ]
     },
     "execution_count": 65,
     "metadata": {},
     "output_type": "execute_result"
    }
   ],
   "source": [
    "df_secured_excluded['family_status'].value_counts()"
   ]
  },
  {
   "cell_type": "code",
   "execution_count": 66,
   "id": "e7509f5a-c0b8-4dd7-8b4e-30a4c8833e02",
   "metadata": {},
   "outputs": [],
   "source": [
    "# Define get_dependents\n",
    "def get_dependants(dependants):\n",
    "    if dependants > 0:\n",
    "        return 'Has dependants'\n",
    "    else:\n",
    "        return 'No dependants'\n",
    "\n",
    "# Apply the dependents_flag function\n",
    "df_secured_excluded['dependants_flag'] = df_secured_excluded['dependants'].apply(get_dependants)"
   ]
  },
  {
   "cell_type": "code",
   "execution_count": 67,
   "id": "0edc2a37-b20b-4de0-b321-29293cdfe408",
   "metadata": {},
   "outputs": [
    {
     "data": {
      "text/plain": [
       "dependants_flag\n",
       "Has dependants    23224883\n",
       "No dependants      7739681\n",
       "Name: count, dtype: int64"
      ]
     },
     "execution_count": 67,
     "metadata": {},
     "output_type": "execute_result"
    }
   ],
   "source": [
    "df_secured_excluded['dependants_flag'].value_counts()"
   ]
  },
  {
   "cell_type": "code",
   "execution_count": 118,
   "id": "9a7b6e52-758a-48ab-9bbc-992b64d5f9f3",
   "metadata": {},
   "outputs": [],
   "source": [
    "# Define the function to create profiles\n",
    "def create_profile(row):\n",
    "    return f\"{row['family_status']}, {row['dependants_flag']}\"\n",
    "\n",
    "# Apply the function to create a new column 'customer_profile'\n",
    "df_secured_excluded['customer_profile'] = df_secured_excluded.apply(create_profile, axis=1)"
   ]
  },
  {
   "cell_type": "code",
   "execution_count": 120,
   "id": "691347a1-1e2f-48c3-b89a-0ce5a0d82a91",
   "metadata": {},
   "outputs": [
    {
     "data": {
      "image/png": "[encoded data removed]",
      "text/plain": [
       "<Figure size 640x480 with 1 Axes>"
      ]
     },
     "metadata": {},
     "output_type": "display_data"
    }
   ],
   "source": [
    "import textwrap\n",
    "\n",
    "# Create chart showing distribution of customers by 'customer_profile'\n",
    "counts = df_secured_excluded['customer_profile'].value_counts()\n",
    "ax = counts.plot.bar()\n",
    "\n",
    "plt.title('Number of Products Purchased by Customer Profile')\n",
    "plt.xlabel(' ')\n",
    "plt.ylabel('Number of Products Purchased')\n",
    "\n",
    "# Format y-axis values\n",
    "def value_formatter(x, pos):\n",
    "    return f'{x:,.0f}'\n",
    "plt.gca().yaxis.set_major_formatter(FuncFormatter(value_formatter))\n",
    "\n",
    "# Wrap text labels\n",
    "labels = [textwrap.fill(label, width=17) for label in counts.index]\n",
    "plt.xticks(ticks=range(len(labels)), labels=labels, rotation=0, ha='center')\n",
    "\n",
    "plt.tight_layout()  # Adjust layout to fit labels\n",
    "\n",
    "bar_customer_profile = plt.gcf()"
   ]
  },
  {
   "cell_type": "code",
   "execution_count": 122,
   "id": "8a82c87e-9f96-49a0-89c6-4127669cf4aa",
   "metadata": {},
   "outputs": [],
   "source": [
    "#exporting histogram\n",
    "ax.figure.savefig(os.path.join(path,'04 Analysis','Visualizations','customer_profile_bar.png'))"
   ]
  },
  {
   "cell_type": "markdown",
   "id": "941e45ec-1f6e-4191-85ea-e0208eec8150",
   "metadata": {},
   "source": [
    "## Family status vs age group"
   ]
  },
  {
   "cell_type": "code",
   "execution_count": 136,
   "id": "78fa4b67-0bad-49d7-9ac9-4f4b8bbe86aa",
   "metadata": {},
   "outputs": [],
   "source": [
    "crosstab_family = pd.crosstab(df_secured_excluded['family_status'], df_secured_excluded['age_group'], dropna = False)"
   ]
  },
  {
   "cell_type": "code",
   "execution_count": 137,
   "id": "3f8c9dc2-feaf-41de-a1e1-699921137bcc",
   "metadata": {},
   "outputs": [
    {
     "name": "stdout",
     "output_type": "stream",
     "text": [
      "age_group                          adults  old adults   other   senior  \\\n",
      "family_status                                                            \n",
      "divorced/widowed                        0      623313       0  2021958   \n",
      "living with parents and siblings        0           0       0        0   \n",
      "married                           6901266     7238740  321607  6173586   \n",
      "single                            2313185     1827998  127717        0   \n",
      "\n",
      "age_group                         young adults  \n",
      "family_status                                   \n",
      "divorced/widowed                             0  \n",
      "living with parents and siblings       1481172  \n",
      "married                                1108512  \n",
      "single                                  825510  \n"
     ]
    }
   ],
   "source": [
    "print(crosstab_family)"
   ]
  },
  {
   "cell_type": "code",
   "execution_count": 130,
   "id": "a5deb43d-ba2b-4cff-adca-006da93e8814",
   "metadata": {},
   "outputs": [
    {
     "data": {
      "image/png": "[encoded data removed]",
      "text/plain": [
       "<Figure size 640x480 with 1 Axes>"
      ]
     },
     "metadata": {},
     "output_type": "display_data"
    }
   ],
   "source": [
    "import textwrap\n",
    "\n",
    "family_based_spending = crosstab_family.plot.bar()\n",
    "plt.title('Family Status as per the age group')\n",
    "plt.xlabel(' ')\n",
    "plt.ylabel('Count')\n",
    "\n",
    "# Get the current x-tick labels\n",
    "labels = [label.get_text() for label in family_based_spending.get_xticklabels()]\n",
    "\n",
    "# Wrap labels\n",
    "wrapped_labels = [textwrap.fill(label, 10) for label in labels]\n",
    "\n",
    "# Set the new wrapped labels\n",
    "family_based_spending.set_xticklabels(wrapped_labels, rotation=0)\n",
    "\n",
    "# Show the plot\n",
    "plt.show()"
   ]
  },
  {
   "cell_type": "markdown",
   "id": "4fa4a286-2d1d-4ef2-8658-2545a2850132",
   "metadata": {},
   "source": [
    "Observations from family status and age_group: Highest orders come from 3 age groups and from married family status - adults, old adults and seniors. Surprisingly, orders from young adults (between age group 0 to 25) who are married are less comparitively. Their order rate remains unaffected if they were married or single."
   ]
  },
  {
   "cell_type": "code",
   "execution_count": 132,
   "id": "a784834c-7836-4d84-9fad-67b418ad954c",
   "metadata": {},
   "outputs": [],
   "source": [
    "#exporting the chart\n",
    "family_based_spending.figure.savefig(os.path.join(path,'04 Analysis','Visualizations','family_based_spending_4.10.png'))"
   ]
  },
  {
   "cell_type": "markdown",
   "id": "7cb32f35-9550-401e-8d99-d4c824e3f854",
   "metadata": {},
   "source": [
    "## Aggregate the max, mean, and min variables on a customer-profile level for usage frequency and expenditure."
   ]
  },
  {
   "cell_type": "code",
   "execution_count": 140,
   "id": "1cff2161-8be7-4e60-bb67-84721fc4581f",
   "metadata": {},
   "outputs": [
    {
     "data": {
      "text/plain": [
       "['user_id',\n",
       " 'gender',\n",
       " 'state',\n",
       " 'age',\n",
       " 'date_joined',\n",
       " 'dependants',\n",
       " 'family_status',\n",
       " 'income',\n",
       " 'product_id',\n",
       " 'product_name',\n",
       " 'aisle_id',\n",
       " 'department_id',\n",
       " 'prices',\n",
       " 'order_id',\n",
       " 'order_number',\n",
       " 'order_day_of_week',\n",
       " 'order_hour_of_day',\n",
       " 'days_since_prior_order',\n",
       " 'add_to_cart_order',\n",
       " 'reordered',\n",
       " 'Average_order',\n",
       " 'Max_order',\n",
       " 'loyalty_flag',\n",
       " 'mean_product_price',\n",
       " 'spending_flag',\n",
       " 'order_median',\n",
       " 'order_frequency',\n",
       " 'age_group',\n",
       " 'income_group',\n",
       " 'region',\n",
       " 'activity_level',\n",
       " 'dependants_category',\n",
       " 'order_dow_weekend',\n",
       " 'dependants_flag',\n",
       " 'customer_profile']"
      ]
     },
     "execution_count": 140,
     "metadata": {},
     "output_type": "execute_result"
    }
   ],
   "source": [
    "df_secured_excluded.columns.to_list()"
   ]
  },
  {
   "cell_type": "code",
   "execution_count": 142,
   "id": "9a6fca9d-a2b2-400d-8479-d6d172336b74",
   "metadata": {},
   "outputs": [],
   "source": [
    "df_secured_excluded.fillna({'prices': 0}, inplace=True)  # Replace NaN with 0 or handle as needed"
   ]
  },
  {
   "cell_type": "code",
   "execution_count": 144,
   "id": "a9b8b03c-c434-4a7a-99cc-f3d2ae29939e",
   "metadata": {},
   "outputs": [],
   "source": [
    "df_secured_excluded['prices'] = pd.to_numeric(df_secured_excluded['prices'], errors='coerce').astype('float64')\n"
   ]
  },
  {
   "cell_type": "code",
   "execution_count": 146,
   "id": "4c558231-3e43-4a47-abc6-24e8b7c24ffa",
   "metadata": {},
   "outputs": [],
   "source": [
    "# Creating aggregation subset for customer profile\n",
    "customer_profile = df_secured_excluded.groupby(['user_id', 'gender', 'state', 'dependants', 'family_status', 'order_number', 'order_day_of_week', 'order_hour_of_day', 'loyalty_flag', 'order_frequency', 'age_group', 'income_group', 'region', 'dependants_category', 'spending_flag'])['prices'].sum().reset_index()\n",
    "\n"
   ]
  },
  {
   "cell_type": "code",
   "execution_count": 148,
   "id": "18c996f9-b50d-4075-9433-77e8b9d50908",
   "metadata": {},
   "outputs": [
    {
     "data": {
      "text/html": [
       "<div>\n",
       "<style scoped>\n",
       "    .dataframe tbody tr th:only-of-type {\n",
       "        vertical-align: middle;\n",
       "    }\n",
       "\n",
       "    .dataframe tbody tr th {\n",
       "        vertical-align: top;\n",
       "    }\n",
       "\n",
       "    .dataframe thead th {\n",
       "        text-align: right;\n",
       "    }\n",
       "</style>\n",
       "<table border=\"1\" class=\"dataframe\">\n",
       "  <thead>\n",
       "    <tr style=\"text-align: right;\">\n",
       "      <th></th>\n",
       "      <th>user_id</th>\n",
       "      <th>gender</th>\n",
       "      <th>state</th>\n",
       "      <th>dependants</th>\n",
       "      <th>family_status</th>\n",
       "      <th>order_number</th>\n",
       "      <th>order_day_of_week</th>\n",
       "      <th>order_hour_of_day</th>\n",
       "      <th>loyalty_flag</th>\n",
       "      <th>order_frequency</th>\n",
       "      <th>age_group</th>\n",
       "      <th>income_group</th>\n",
       "      <th>region</th>\n",
       "      <th>dependants_category</th>\n",
       "      <th>spending_flag</th>\n",
       "      <th>prices</th>\n",
       "    </tr>\n",
       "  </thead>\n",
       "  <tbody>\n",
       "    <tr>\n",
       "      <th>0</th>\n",
       "      <td>1.0</td>\n",
       "      <td>Female</td>\n",
       "      <td>Alabama</td>\n",
       "      <td>3</td>\n",
       "      <td>married</td>\n",
       "      <td>1</td>\n",
       "      <td>2</td>\n",
       "      <td>8</td>\n",
       "      <td>New Customer</td>\n",
       "      <td>Regular customer</td>\n",
       "      <td>adults</td>\n",
       "      <td>low income</td>\n",
       "      <td>South</td>\n",
       "      <td>large</td>\n",
       "      <td>Low spender</td>\n",
       "      <td>31.600000</td>\n",
       "    </tr>\n",
       "    <tr>\n",
       "      <th>1</th>\n",
       "      <td>1.0</td>\n",
       "      <td>Female</td>\n",
       "      <td>Alabama</td>\n",
       "      <td>3</td>\n",
       "      <td>married</td>\n",
       "      <td>2</td>\n",
       "      <td>3</td>\n",
       "      <td>7</td>\n",
       "      <td>New Customer</td>\n",
       "      <td>Regular customer</td>\n",
       "      <td>adults</td>\n",
       "      <td>low income</td>\n",
       "      <td>South</td>\n",
       "      <td>large</td>\n",
       "      <td>Low spender</td>\n",
       "      <td>35.400000</td>\n",
       "    </tr>\n",
       "    <tr>\n",
       "      <th>2</th>\n",
       "      <td>1.0</td>\n",
       "      <td>Female</td>\n",
       "      <td>Alabama</td>\n",
       "      <td>3</td>\n",
       "      <td>married</td>\n",
       "      <td>3</td>\n",
       "      <td>3</td>\n",
       "      <td>12</td>\n",
       "      <td>New Customer</td>\n",
       "      <td>Regular customer</td>\n",
       "      <td>adults</td>\n",
       "      <td>low income</td>\n",
       "      <td>South</td>\n",
       "      <td>large</td>\n",
       "      <td>Low spender</td>\n",
       "      <td>28.200001</td>\n",
       "    </tr>\n",
       "    <tr>\n",
       "      <th>3</th>\n",
       "      <td>1.0</td>\n",
       "      <td>Female</td>\n",
       "      <td>Alabama</td>\n",
       "      <td>3</td>\n",
       "      <td>married</td>\n",
       "      <td>4</td>\n",
       "      <td>4</td>\n",
       "      <td>7</td>\n",
       "      <td>New Customer</td>\n",
       "      <td>Regular customer</td>\n",
       "      <td>adults</td>\n",
       "      <td>low income</td>\n",
       "      <td>South</td>\n",
       "      <td>large</td>\n",
       "      <td>Low spender</td>\n",
       "      <td>26.000000</td>\n",
       "    </tr>\n",
       "    <tr>\n",
       "      <th>4</th>\n",
       "      <td>1.0</td>\n",
       "      <td>Female</td>\n",
       "      <td>Alabama</td>\n",
       "      <td>3</td>\n",
       "      <td>married</td>\n",
       "      <td>5</td>\n",
       "      <td>4</td>\n",
       "      <td>15</td>\n",
       "      <td>New Customer</td>\n",
       "      <td>Regular customer</td>\n",
       "      <td>adults</td>\n",
       "      <td>low income</td>\n",
       "      <td>South</td>\n",
       "      <td>large</td>\n",
       "      <td>Low spender</td>\n",
       "      <td>57.000001</td>\n",
       "    </tr>\n",
       "  </tbody>\n",
       "</table>\n",
       "</div>"
      ],
      "text/plain": [
       "   user_id  gender    state  dependants family_status  order_number  \\\n",
       "0      1.0  Female  Alabama           3       married             1   \n",
       "1      1.0  Female  Alabama           3       married             2   \n",
       "2      1.0  Female  Alabama           3       married             3   \n",
       "3      1.0  Female  Alabama           3       married             4   \n",
       "4      1.0  Female  Alabama           3       married             5   \n",
       "\n",
       "   order_day_of_week  order_hour_of_day  loyalty_flag   order_frequency  \\\n",
       "0                  2                  8  New Customer  Regular customer   \n",
       "1                  3                  7  New Customer  Regular customer   \n",
       "2                  3                 12  New Customer  Regular customer   \n",
       "3                  4                  7  New Customer  Regular customer   \n",
       "4                  4                 15  New Customer  Regular customer   \n",
       "\n",
       "  age_group income_group region dependants_category spending_flag     prices  \n",
       "0    adults   low income  South               large   Low spender  31.600000  \n",
       "1    adults   low income  South               large   Low spender  35.400000  \n",
       "2    adults   low income  South               large   Low spender  28.200001  \n",
       "3    adults   low income  South               large   Low spender  26.000000  \n",
       "4    adults   low income  South               large   Low spender  57.000001  "
      ]
     },
     "execution_count": 148,
     "metadata": {},
     "output_type": "execute_result"
    }
   ],
   "source": [
    "customer_profile.head()"
   ]
  },
  {
   "cell_type": "code",
   "execution_count": 150,
   "id": "25188ada-3624-4df1-b799-76d9068a1a9a",
   "metadata": {},
   "outputs": [],
   "source": [
    "customer_agg = customer_profile.groupby('user_id').agg({'order_number': ['max', 'min', 'mean'], 'order_day_of_week': ['max', 'min', 'mean'], \n",
    "                                                    'order_hour_of_day': ['max', 'min', 'mean'], 'prices': ['max', 'min', 'mean']})"
   ]
  },
  {
   "cell_type": "code",
   "execution_count": 152,
   "id": "86e4f3e1-716c-47aa-972e-b6891bf09d0e",
   "metadata": {},
   "outputs": [
    {
     "data": {
      "text/html": [
       "<div>\n",
       "<style scoped>\n",
       "    .dataframe tbody tr th:only-of-type {\n",
       "        vertical-align: middle;\n",
       "    }\n",
       "\n",
       "    .dataframe tbody tr th {\n",
       "        vertical-align: top;\n",
       "    }\n",
       "\n",
       "    .dataframe thead tr th {\n",
       "        text-align: left;\n",
       "    }\n",
       "\n",
       "    .dataframe thead tr:last-of-type th {\n",
       "        text-align: right;\n",
       "    }\n",
       "</style>\n",
       "<table border=\"1\" class=\"dataframe\">\n",
       "  <thead>\n",
       "    <tr>\n",
       "      <th></th>\n",
       "      <th colspan=\"3\" halign=\"left\">order_number</th>\n",
       "      <th colspan=\"3\" halign=\"left\">order_day_of_week</th>\n",
       "      <th colspan=\"3\" halign=\"left\">order_hour_of_day</th>\n",
       "      <th colspan=\"3\" halign=\"left\">prices</th>\n",
       "    </tr>\n",
       "    <tr>\n",
       "      <th></th>\n",
       "      <th>max</th>\n",
       "      <th>min</th>\n",
       "      <th>mean</th>\n",
       "      <th>max</th>\n",
       "      <th>min</th>\n",
       "      <th>mean</th>\n",
       "      <th>max</th>\n",
       "      <th>min</th>\n",
       "      <th>mean</th>\n",
       "      <th>max</th>\n",
       "      <th>min</th>\n",
       "      <th>mean</th>\n",
       "    </tr>\n",
       "    <tr>\n",
       "      <th>user_id</th>\n",
       "      <th></th>\n",
       "      <th></th>\n",
       "      <th></th>\n",
       "      <th></th>\n",
       "      <th></th>\n",
       "      <th></th>\n",
       "      <th></th>\n",
       "      <th></th>\n",
       "      <th></th>\n",
       "      <th></th>\n",
       "      <th></th>\n",
       "      <th></th>\n",
       "    </tr>\n",
       "  </thead>\n",
       "  <tbody>\n",
       "    <tr>\n",
       "      <th>1.0</th>\n",
       "      <td>10</td>\n",
       "      <td>1</td>\n",
       "      <td>5.5</td>\n",
       "      <td>4</td>\n",
       "      <td>1</td>\n",
       "      <td>2.500000</td>\n",
       "      <td>16</td>\n",
       "      <td>7</td>\n",
       "      <td>10.300000</td>\n",
       "      <td>63.100001</td>\n",
       "      <td>25.000000</td>\n",
       "      <td>37.570000</td>\n",
       "    </tr>\n",
       "    <tr>\n",
       "      <th>2.0</th>\n",
       "      <td>14</td>\n",
       "      <td>1</td>\n",
       "      <td>7.5</td>\n",
       "      <td>5</td>\n",
       "      <td>1</td>\n",
       "      <td>2.142857</td>\n",
       "      <td>15</td>\n",
       "      <td>9</td>\n",
       "      <td>10.571429</td>\n",
       "      <td>213.100000</td>\n",
       "      <td>19.000000</td>\n",
       "      <td>104.685714</td>\n",
       "    </tr>\n",
       "    <tr>\n",
       "      <th>3.0</th>\n",
       "      <td>12</td>\n",
       "      <td>1</td>\n",
       "      <td>6.5</td>\n",
       "      <td>3</td>\n",
       "      <td>0</td>\n",
       "      <td>1.083333</td>\n",
       "      <td>19</td>\n",
       "      <td>14</td>\n",
       "      <td>16.416667</td>\n",
       "      <td>107.200001</td>\n",
       "      <td>30.700000</td>\n",
       "      <td>60.116667</td>\n",
       "    </tr>\n",
       "    <tr>\n",
       "      <th>4.0</th>\n",
       "      <td>5</td>\n",
       "      <td>1</td>\n",
       "      <td>3.0</td>\n",
       "      <td>6</td>\n",
       "      <td>4</td>\n",
       "      <td>4.800000</td>\n",
       "      <td>15</td>\n",
       "      <td>11</td>\n",
       "      <td>12.600000</td>\n",
       "      <td>63.400001</td>\n",
       "      <td>10.800000</td>\n",
       "      <td>29.540000</td>\n",
       "    </tr>\n",
       "    <tr>\n",
       "      <th>7.0</th>\n",
       "      <td>20</td>\n",
       "      <td>1</td>\n",
       "      <td>10.5</td>\n",
       "      <td>6</td>\n",
       "      <td>0</td>\n",
       "      <td>1.850000</td>\n",
       "      <td>20</td>\n",
       "      <td>7</td>\n",
       "      <td>13.600000</td>\n",
       "      <td>166.700002</td>\n",
       "      <td>6.300000</td>\n",
       "      <td>76.910001</td>\n",
       "    </tr>\n",
       "    <tr>\n",
       "      <th>...</th>\n",
       "      <td>...</td>\n",
       "      <td>...</td>\n",
       "      <td>...</td>\n",
       "      <td>...</td>\n",
       "      <td>...</td>\n",
       "      <td>...</td>\n",
       "      <td>...</td>\n",
       "      <td>...</td>\n",
       "      <td>...</td>\n",
       "      <td>...</td>\n",
       "      <td>...</td>\n",
       "      <td>...</td>\n",
       "    </tr>\n",
       "    <tr>\n",
       "      <th>206203.0</th>\n",
       "      <td>5</td>\n",
       "      <td>1</td>\n",
       "      <td>3.0</td>\n",
       "      <td>5</td>\n",
       "      <td>0</td>\n",
       "      <td>1.800000</td>\n",
       "      <td>18</td>\n",
       "      <td>13</td>\n",
       "      <td>15.600000</td>\n",
       "      <td>216.300002</td>\n",
       "      <td>126.600001</td>\n",
       "      <td>169.900000</td>\n",
       "    </tr>\n",
       "    <tr>\n",
       "      <th>206206.0</th>\n",
       "      <td>67</td>\n",
       "      <td>1</td>\n",
       "      <td>34.0</td>\n",
       "      <td>6</td>\n",
       "      <td>0</td>\n",
       "      <td>2.477612</td>\n",
       "      <td>20</td>\n",
       "      <td>9</td>\n",
       "      <td>16.731343</td>\n",
       "      <td>157.300000</td>\n",
       "      <td>9.600000</td>\n",
       "      <td>32.526866</td>\n",
       "    </tr>\n",
       "    <tr>\n",
       "      <th>206207.0</th>\n",
       "      <td>16</td>\n",
       "      <td>1</td>\n",
       "      <td>8.5</td>\n",
       "      <td>6</td>\n",
       "      <td>0</td>\n",
       "      <td>2.562500</td>\n",
       "      <td>21</td>\n",
       "      <td>4</td>\n",
       "      <td>12.500000</td>\n",
       "      <td>200.800003</td>\n",
       "      <td>42.800000</td>\n",
       "      <td>101.931251</td>\n",
       "    </tr>\n",
       "    <tr>\n",
       "      <th>206208.0</th>\n",
       "      <td>49</td>\n",
       "      <td>1</td>\n",
       "      <td>25.0</td>\n",
       "      <td>6</td>\n",
       "      <td>0</td>\n",
       "      <td>2.653061</td>\n",
       "      <td>23</td>\n",
       "      <td>4</td>\n",
       "      <td>14.265306</td>\n",
       "      <td>238.500001</td>\n",
       "      <td>38.700000</td>\n",
       "      <td>115.595919</td>\n",
       "    </tr>\n",
       "    <tr>\n",
       "      <th>206209.0</th>\n",
       "      <td>13</td>\n",
       "      <td>1</td>\n",
       "      <td>7.0</td>\n",
       "      <td>5</td>\n",
       "      <td>0</td>\n",
       "      <td>2.769231</td>\n",
       "      <td>18</td>\n",
       "      <td>10</td>\n",
       "      <td>13.615385</td>\n",
       "      <td>131.500001</td>\n",
       "      <td>11.100000</td>\n",
       "      <td>70.046154</td>\n",
       "    </tr>\n",
       "  </tbody>\n",
       "</table>\n",
       "<p>162631 rows × 12 columns</p>\n",
       "</div>"
      ],
      "text/plain": [
       "         order_number           order_day_of_week                \\\n",
       "                  max min  mean               max min      mean   \n",
       "user_id                                                           \n",
       "1.0                10   1   5.5                 4   1  2.500000   \n",
       "2.0                14   1   7.5                 5   1  2.142857   \n",
       "3.0                12   1   6.5                 3   0  1.083333   \n",
       "4.0                 5   1   3.0                 6   4  4.800000   \n",
       "7.0                20   1  10.5                 6   0  1.850000   \n",
       "...               ...  ..   ...               ...  ..       ...   \n",
       "206203.0            5   1   3.0                 5   0  1.800000   \n",
       "206206.0           67   1  34.0                 6   0  2.477612   \n",
       "206207.0           16   1   8.5                 6   0  2.562500   \n",
       "206208.0           49   1  25.0                 6   0  2.653061   \n",
       "206209.0           13   1   7.0                 5   0  2.769231   \n",
       "\n",
       "         order_hour_of_day                     prices                          \n",
       "                       max min       mean         max         min        mean  \n",
       "user_id                                                                        \n",
       "1.0                     16   7  10.300000   63.100001   25.000000   37.570000  \n",
       "2.0                     15   9  10.571429  213.100000   19.000000  104.685714  \n",
       "3.0                     19  14  16.416667  107.200001   30.700000   60.116667  \n",
       "4.0                     15  11  12.600000   63.400001   10.800000   29.540000  \n",
       "7.0                     20   7  13.600000  166.700002    6.300000   76.910001  \n",
       "...                    ...  ..        ...         ...         ...         ...  \n",
       "206203.0                18  13  15.600000  216.300002  126.600001  169.900000  \n",
       "206206.0                20   9  16.731343  157.300000    9.600000   32.526866  \n",
       "206207.0                21   4  12.500000  200.800003   42.800000  101.931251  \n",
       "206208.0                23   4  14.265306  238.500001   38.700000  115.595919  \n",
       "206209.0                18  10  13.615385  131.500001   11.100000   70.046154  \n",
       "\n",
       "[162631 rows x 12 columns]"
      ]
     },
     "execution_count": 152,
     "metadata": {},
     "output_type": "execute_result"
    }
   ],
   "source": [
    "customer_agg"
   ]
  },
  {
   "cell_type": "code",
   "execution_count": 154,
   "id": "020f7013-dd4c-4b8f-84a6-1fe40a0fb46c",
   "metadata": {},
   "outputs": [],
   "source": [
    "# Creating aggregation by income_group for order_number & prices\n",
    "income_group_agg = customer_profile.groupby('income_group').agg({'order_number':['mean','min','max'],'prices':['mean','min','max']})"
   ]
  },
  {
   "cell_type": "code",
   "execution_count": 156,
   "id": "72051d2a-72c5-40b1-ae12-7609f9ec7c31",
   "metadata": {},
   "outputs": [
    {
     "data": {
      "text/html": [
       "<div>\n",
       "<style scoped>\n",
       "    .dataframe tbody tr th:only-of-type {\n",
       "        vertical-align: middle;\n",
       "    }\n",
       "\n",
       "    .dataframe tbody tr th {\n",
       "        vertical-align: top;\n",
       "    }\n",
       "\n",
       "    .dataframe thead tr th {\n",
       "        text-align: left;\n",
       "    }\n",
       "\n",
       "    .dataframe thead tr:last-of-type th {\n",
       "        text-align: right;\n",
       "    }\n",
       "</style>\n",
       "<table border=\"1\" class=\"dataframe\">\n",
       "  <thead>\n",
       "    <tr>\n",
       "      <th></th>\n",
       "      <th colspan=\"3\" halign=\"left\">order_number</th>\n",
       "      <th colspan=\"3\" halign=\"left\">prices</th>\n",
       "    </tr>\n",
       "    <tr>\n",
       "      <th></th>\n",
       "      <th>mean</th>\n",
       "      <th>min</th>\n",
       "      <th>max</th>\n",
       "      <th>mean</th>\n",
       "      <th>min</th>\n",
       "      <th>max</th>\n",
       "    </tr>\n",
       "    <tr>\n",
       "      <th>income_group</th>\n",
       "      <th></th>\n",
       "      <th></th>\n",
       "      <th></th>\n",
       "      <th></th>\n",
       "      <th></th>\n",
       "      <th></th>\n",
       "    </tr>\n",
       "  </thead>\n",
       "  <tbody>\n",
       "    <tr>\n",
       "      <th>high income</th>\n",
       "      <td>18.164700</td>\n",
       "      <td>1</td>\n",
       "      <td>99</td>\n",
       "      <td>83.862662</td>\n",
       "      <td>0.0</td>\n",
       "      <td>1092.199997</td>\n",
       "    </tr>\n",
       "    <tr>\n",
       "      <th>low income</th>\n",
       "      <td>16.455425</td>\n",
       "      <td>1</td>\n",
       "      <td>99</td>\n",
       "      <td>52.629435</td>\n",
       "      <td>1.0</td>\n",
       "      <td>875.000007</td>\n",
       "    </tr>\n",
       "    <tr>\n",
       "      <th>moderate income</th>\n",
       "      <td>18.159834</td>\n",
       "      <td>1</td>\n",
       "      <td>99</td>\n",
       "      <td>81.994559</td>\n",
       "      <td>0.0</td>\n",
       "      <td>852.500001</td>\n",
       "    </tr>\n",
       "  </tbody>\n",
       "</table>\n",
       "</div>"
      ],
      "text/plain": [
       "                order_number             prices                  \n",
       "                        mean min max       mean  min          max\n",
       "income_group                                                     \n",
       "high income        18.164700   1  99  83.862662  0.0  1092.199997\n",
       "low income         16.455425   1  99  52.629435  1.0   875.000007\n",
       "moderate income    18.159834   1  99  81.994559  0.0   852.500001"
      ]
     },
     "execution_count": 156,
     "metadata": {},
     "output_type": "execute_result"
    }
   ],
   "source": [
    "income_group_agg"
   ]
  },
  {
   "cell_type": "code",
   "execution_count": 158,
   "id": "26d004e1-73a3-484b-811f-b0d418ad1f2b",
   "metadata": {},
   "outputs": [],
   "source": [
    "# Creating aggregation by dependant_category for order_number & prices\n",
    "dependant_size_agg = customer_profile.groupby('dependants_category').agg({'order_number':['mean','min','max'],'prices':['mean','min','max']})"
   ]
  },
  {
   "cell_type": "code",
   "execution_count": 160,
   "id": "66f0d1a6-af2c-4a71-b18f-87b902647bf9",
   "metadata": {},
   "outputs": [
    {
     "data": {
      "text/html": [
       "<div>\n",
       "<style scoped>\n",
       "    .dataframe tbody tr th:only-of-type {\n",
       "        vertical-align: middle;\n",
       "    }\n",
       "\n",
       "    .dataframe tbody tr th {\n",
       "        vertical-align: top;\n",
       "    }\n",
       "\n",
       "    .dataframe thead tr th {\n",
       "        text-align: left;\n",
       "    }\n",
       "\n",
       "    .dataframe thead tr:last-of-type th {\n",
       "        text-align: right;\n",
       "    }\n",
       "</style>\n",
       "<table border=\"1\" class=\"dataframe\">\n",
       "  <thead>\n",
       "    <tr>\n",
       "      <th></th>\n",
       "      <th colspan=\"3\" halign=\"left\">order_number</th>\n",
       "      <th colspan=\"3\" halign=\"left\">prices</th>\n",
       "    </tr>\n",
       "    <tr>\n",
       "      <th></th>\n",
       "      <th>mean</th>\n",
       "      <th>min</th>\n",
       "      <th>max</th>\n",
       "      <th>mean</th>\n",
       "      <th>min</th>\n",
       "      <th>max</th>\n",
       "    </tr>\n",
       "    <tr>\n",
       "      <th>dependants_category</th>\n",
       "      <th></th>\n",
       "      <th></th>\n",
       "      <th></th>\n",
       "      <th></th>\n",
       "      <th></th>\n",
       "      <th></th>\n",
       "    </tr>\n",
       "  </thead>\n",
       "  <tbody>\n",
       "    <tr>\n",
       "      <th>large</th>\n",
       "      <td>17.976402</td>\n",
       "      <td>1</td>\n",
       "      <td>99</td>\n",
       "      <td>78.692147</td>\n",
       "      <td>0.0</td>\n",
       "      <td>1092.199997</td>\n",
       "    </tr>\n",
       "    <tr>\n",
       "      <th>medium</th>\n",
       "      <td>17.844847</td>\n",
       "      <td>1</td>\n",
       "      <td>99</td>\n",
       "      <td>78.839964</td>\n",
       "      <td>0.0</td>\n",
       "      <td>846.100001</td>\n",
       "    </tr>\n",
       "    <tr>\n",
       "      <th>small</th>\n",
       "      <td>17.936360</td>\n",
       "      <td>1</td>\n",
       "      <td>99</td>\n",
       "      <td>78.652410</td>\n",
       "      <td>0.0</td>\n",
       "      <td>875.000007</td>\n",
       "    </tr>\n",
       "  </tbody>\n",
       "</table>\n",
       "</div>"
      ],
      "text/plain": [
       "                    order_number             prices                  \n",
       "                            mean min max       mean  min          max\n",
       "dependants_category                                                  \n",
       "large                  17.976402   1  99  78.692147  0.0  1092.199997\n",
       "medium                 17.844847   1  99  78.839964  0.0   846.100001\n",
       "small                  17.936360   1  99  78.652410  0.0   875.000007"
      ]
     },
     "execution_count": 160,
     "metadata": {},
     "output_type": "execute_result"
    }
   ],
   "source": [
    "dependant_size_agg"
   ]
  },
  {
   "cell_type": "code",
   "execution_count": 162,
   "id": "3b0d9914-d786-4c61-b7da-c39c5932c4e2",
   "metadata": {},
   "outputs": [],
   "source": [
    "# Creating aggregation by gender for order_frequency & prices\n",
    "gender_agg = customer_profile.groupby('gender').agg({'dependants':['mean','min','max'],'prices':['mean','min','max']})"
   ]
  },
  {
   "cell_type": "markdown",
   "id": "1478435b-cd1b-4109-90d9-82ee76b96b2a",
   "metadata": {},
   "source": [
    "8. Compare your customer profiles with regions and departments. Can you identify a link between them? Customers may demonstrate different behaviors across regions, which could make this information important."
   ]
  },
  {
   "cell_type": "code",
   "execution_count": 164,
   "id": "9c835da9-bfda-434e-aa95-9f409f96df20",
   "metadata": {},
   "outputs": [],
   "source": [
    "# Creating crosstab to compare age_group profile with region locations\n",
    "age_region_comparison = pd.crosstab(df_secured_excluded['age_group'], df_secured_excluded['region'], dropna=False)"
   ]
  }
 ],
 "metadata": {
  "kernelspec": {
   "display_name": "Python 3 (ipykernel)",
   "language": "python",
   "name": "python3"
  },
  "language_info": {
   "codemirror_mode": {
    "name": "ipython",
    "version": 3
   },
   "file_extension": ".py",
   "mimetype": "text/x-python",
   "name": "python",
   "nbconvert_exporter": "python",
   "pygments_lexer": "ipython3",
   "version": "3.12.4"
  }
 },
 "nbformat": 4,
 "nbformat_minor": 5
}
