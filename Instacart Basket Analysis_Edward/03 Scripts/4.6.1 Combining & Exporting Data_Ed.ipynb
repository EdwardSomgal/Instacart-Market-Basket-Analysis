{
 "cells": [
  {
   "cell_type": "markdown",
   "id": "ce4dc8dc-0317-4c2b-b094-515f875af04e",
   "metadata": {},
   "source": [
    "## 4.6.1 Combining & Exporting Data"
   ]
  },
  {
   "cell_type": "markdown",
   "id": "730dd35e-8118-4217-a8f1-4b78f42d3562",
   "metadata": {},
   "source": [
    "# Merging Prepared Instacart orders data with the new orders_products_prior"
   ]
  },
  {
   "cell_type": "code",
   "execution_count": 4,
   "id": "dceb9da0-4faf-4f5f-bb63-024c34895a64",
   "metadata": {},
   "outputs": [],
   "source": [
    "#import libraries"
   ]
  },
  {
   "cell_type": "code",
   "execution_count": 70,
   "id": "912d5e06-894b-466b-b619-b0680d26ff44",
   "metadata": {},
   "outputs": [],
   "source": [
    "import pandas as pd\n",
    "import numpy as np\n",
    "import os"
   ]
  },
  {
   "cell_type": "markdown",
   "id": "222e6fe5-08aa-4325-a57a-f0f48f358ed6",
   "metadata": {},
   "source": [
    "### Import the data sets into Jupyter"
   ]
  },
  {
   "cell_type": "code",
   "execution_count": 72,
   "id": "0691a518-0fed-4846-b824-0c449fda4e70",
   "metadata": {},
   "outputs": [],
   "source": [
    "path = r\"C:\\Users\\hp\\08-08-2024 Instacart Basket Analysis\""
   ]
  },
  {
   "cell_type": "code",
   "execution_count": 74,
   "id": "1ce7c03f-0790-4935-b26d-bba98ab0e834",
   "metadata": {},
   "outputs": [],
   "source": [
    "# Import dataset orders_products_prior.csv\n",
    "df_ords_prods_prior = pd.read_csv(os.path.join(path, '02 Data', 'Original Data', 'orders_products_prior.csv'), index_col = False)"
   ]
  },
  {
   "cell_type": "code",
   "execution_count": 75,
   "id": "ae0a07af-76c6-42a2-a9e8-295b67bfd0b6",
   "metadata": {},
   "outputs": [],
   "source": [
    "df_ords = pd.read_csv(os.path.join(path, '02 Data', 'Prepared Data', 'orders_checked_4.5.csv'), index_col = False)"
   ]
  },
  {
   "cell_type": "code",
   "execution_count": 76,
   "id": "1aeb7dc3-faf9-4d77-9f21-620566cf2358",
   "metadata": {},
   "outputs": [
    {
     "name": "stdout",
     "output_type": "stream",
     "text": [
      "<class 'pandas.core.frame.DataFrame'>\n",
      "RangeIndex: 3421083 entries, 0 to 3421082\n",
      "Data columns (total 8 columns):\n",
      " #   Column                  Dtype  \n",
      "---  ------                  -----  \n",
      " 0   Unnamed: 0              int64  \n",
      " 1   order_id                int64  \n",
      " 2   user_id                 int64  \n",
      " 3   eval_set                object \n",
      " 4   order_number            int64  \n",
      " 5   order_dow               int64  \n",
      " 6   order_hour_of_day       int64  \n",
      " 7   days_since_prior_order  float64\n",
      "dtypes: float64(1), int64(6), object(1)\n",
      "memory usage: 208.8+ MB\n"
     ]
    }
   ],
   "source": [
    "df_ords.info()"
   ]
  },
  {
   "cell_type": "code",
   "execution_count": 77,
   "id": "a6691c4a-2e8b-4e81-90c9-1c645329a9d0",
   "metadata": {},
   "outputs": [
    {
     "name": "stdout",
     "output_type": "stream",
     "text": [
      "<class 'pandas.core.frame.DataFrame'>\n",
      "RangeIndex: 32434489 entries, 0 to 32434488\n",
      "Data columns (total 4 columns):\n",
      " #   Column             Dtype\n",
      "---  ------             -----\n",
      " 0   order_id           int64\n",
      " 1   product_id         int64\n",
      " 2   add_to_cart_order  int64\n",
      " 3   reordered          int64\n",
      "dtypes: int64(4)\n",
      "memory usage: 989.8 MB\n"
     ]
    }
   ],
   "source": [
    "#check the size and datatype of the dataframe columns\n",
    "df_ords_prods_prior.info()"
   ]
  },
  {
   "cell_type": "markdown",
   "id": "61bb22c6-23fe-408f-b836-425be10bae27",
   "metadata": {},
   "source": [
    "### Checking dimensions of the dataframe"
   ]
  },
  {
   "cell_type": "code",
   "execution_count": 78,
   "id": "cf12ec61-5b3e-421d-9708-6aaf4b40d652",
   "metadata": {},
   "outputs": [
    {
     "data": {
      "text/html": [
       "<div>\n",
       "<style scoped>\n",
       "    .dataframe tbody tr th:only-of-type {\n",
       "        vertical-align: middle;\n",
       "    }\n",
       "\n",
       "    .dataframe tbody tr th {\n",
       "        vertical-align: top;\n",
       "    }\n",
       "\n",
       "    .dataframe thead th {\n",
       "        text-align: right;\n",
       "    }\n",
       "</style>\n",
       "<table border=\"1\" class=\"dataframe\">\n",
       "  <thead>\n",
       "    <tr style=\"text-align: right;\">\n",
       "      <th></th>\n",
       "      <th>order_id</th>\n",
       "      <th>product_id</th>\n",
       "      <th>add_to_cart_order</th>\n",
       "      <th>reordered</th>\n",
       "    </tr>\n",
       "  </thead>\n",
       "  <tbody>\n",
       "    <tr>\n",
       "      <th>0</th>\n",
       "      <td>2</td>\n",
       "      <td>33120</td>\n",
       "      <td>1</td>\n",
       "      <td>1</td>\n",
       "    </tr>\n",
       "    <tr>\n",
       "      <th>1</th>\n",
       "      <td>2</td>\n",
       "      <td>28985</td>\n",
       "      <td>2</td>\n",
       "      <td>1</td>\n",
       "    </tr>\n",
       "    <tr>\n",
       "      <th>2</th>\n",
       "      <td>2</td>\n",
       "      <td>9327</td>\n",
       "      <td>3</td>\n",
       "      <td>0</td>\n",
       "    </tr>\n",
       "    <tr>\n",
       "      <th>3</th>\n",
       "      <td>2</td>\n",
       "      <td>45918</td>\n",
       "      <td>4</td>\n",
       "      <td>1</td>\n",
       "    </tr>\n",
       "    <tr>\n",
       "      <th>4</th>\n",
       "      <td>2</td>\n",
       "      <td>30035</td>\n",
       "      <td>5</td>\n",
       "      <td>0</td>\n",
       "    </tr>\n",
       "  </tbody>\n",
       "</table>\n",
       "</div>"
      ],
      "text/plain": [
       "   order_id  product_id  add_to_cart_order  reordered\n",
       "0         2       33120                  1          1\n",
       "1         2       28985                  2          1\n",
       "2         2        9327                  3          0\n",
       "3         2       45918                  4          1\n",
       "4         2       30035                  5          0"
      ]
     },
     "execution_count": 78,
     "metadata": {},
     "output_type": "execute_result"
    }
   ],
   "source": [
    "df_ords_prods_prior.head()"
   ]
  },
  {
   "cell_type": "code",
   "execution_count": 86,
   "id": "1788afe9-2e7c-465e-a0b4-5d34bf822d3f",
   "metadata": {},
   "outputs": [
    {
     "data": {
      "text/html": [
       "<div>\n",
       "<style scoped>\n",
       "    .dataframe tbody tr th:only-of-type {\n",
       "        vertical-align: middle;\n",
       "    }\n",
       "\n",
       "    .dataframe tbody tr th {\n",
       "        vertical-align: top;\n",
       "    }\n",
       "\n",
       "    .dataframe thead th {\n",
       "        text-align: right;\n",
       "    }\n",
       "</style>\n",
       "<table border=\"1\" class=\"dataframe\">\n",
       "  <thead>\n",
       "    <tr style=\"text-align: right;\">\n",
       "      <th></th>\n",
       "      <th>Unnamed: 0</th>\n",
       "      <th>order_id</th>\n",
       "      <th>user_id</th>\n",
       "      <th>eval_set</th>\n",
       "      <th>order_number</th>\n",
       "      <th>order_dow</th>\n",
       "      <th>order_hour_of_day</th>\n",
       "      <th>days_since_prior_order</th>\n",
       "    </tr>\n",
       "  </thead>\n",
       "  <tbody>\n",
       "    <tr>\n",
       "      <th>0</th>\n",
       "      <td>0</td>\n",
       "      <td>2539329</td>\n",
       "      <td>1</td>\n",
       "      <td>prior</td>\n",
       "      <td>1</td>\n",
       "      <td>2</td>\n",
       "      <td>8</td>\n",
       "      <td>0.0</td>\n",
       "    </tr>\n",
       "    <tr>\n",
       "      <th>1</th>\n",
       "      <td>1</td>\n",
       "      <td>2398795</td>\n",
       "      <td>1</td>\n",
       "      <td>prior</td>\n",
       "      <td>2</td>\n",
       "      <td>3</td>\n",
       "      <td>7</td>\n",
       "      <td>15.0</td>\n",
       "    </tr>\n",
       "    <tr>\n",
       "      <th>2</th>\n",
       "      <td>2</td>\n",
       "      <td>473747</td>\n",
       "      <td>1</td>\n",
       "      <td>prior</td>\n",
       "      <td>3</td>\n",
       "      <td>3</td>\n",
       "      <td>12</td>\n",
       "      <td>21.0</td>\n",
       "    </tr>\n",
       "    <tr>\n",
       "      <th>3</th>\n",
       "      <td>3</td>\n",
       "      <td>2254736</td>\n",
       "      <td>1</td>\n",
       "      <td>prior</td>\n",
       "      <td>4</td>\n",
       "      <td>4</td>\n",
       "      <td>7</td>\n",
       "      <td>29.0</td>\n",
       "    </tr>\n",
       "    <tr>\n",
       "      <th>4</th>\n",
       "      <td>4</td>\n",
       "      <td>431534</td>\n",
       "      <td>1</td>\n",
       "      <td>prior</td>\n",
       "      <td>5</td>\n",
       "      <td>4</td>\n",
       "      <td>15</td>\n",
       "      <td>28.0</td>\n",
       "    </tr>\n",
       "  </tbody>\n",
       "</table>\n",
       "</div>"
      ],
      "text/plain": [
       "   Unnamed: 0  order_id  user_id eval_set  order_number  order_dow  \\\n",
       "0           0   2539329        1    prior             1          2   \n",
       "1           1   2398795        1    prior             2          3   \n",
       "2           2    473747        1    prior             3          3   \n",
       "3           3   2254736        1    prior             4          4   \n",
       "4           4    431534        1    prior             5          4   \n",
       "\n",
       "   order_hour_of_day  days_since_prior_order  \n",
       "0                  8                     0.0  \n",
       "1                  7                    15.0  \n",
       "2                 12                    21.0  \n",
       "3                  7                    29.0  \n",
       "4                 15                    28.0  "
      ]
     },
     "execution_count": 86,
     "metadata": {},
     "output_type": "execute_result"
    }
   ],
   "source": [
    "df_ords.head()"
   ]
  },
  {
   "cell_type": "code",
   "execution_count": 18,
   "id": "adda006b-a0ca-454e-a7dd-bdd86703e4c8",
   "metadata": {},
   "outputs": [
    {
     "data": {
      "text/plain": [
       "(32434489, 4)"
      ]
     },
     "execution_count": 18,
     "metadata": {},
     "output_type": "execute_result"
    }
   ],
   "source": [
    "df_ords_prods_prior.shape"
   ]
  },
  {
   "cell_type": "code",
   "execution_count": 88,
   "id": "8e3542f8-2116-40eb-9236-27e607b1719a",
   "metadata": {},
   "outputs": [
    {
     "data": {
      "text/plain": [
       "(3421083, 8)"
      ]
     },
     "execution_count": 88,
     "metadata": {},
     "output_type": "execute_result"
    }
   ],
   "source": [
    "df_ords.shape"
   ]
  },
  {
   "cell_type": "code",
   "execution_count": 92,
   "id": "ac905037-8d59-43ee-acbc-e34c12ee2f2a",
   "metadata": {},
   "outputs": [],
   "source": [
    "# Dropping unnecessary columns to reduce the file size\n",
    "df_ords = df_ords.drop(['eval_set', 'Unnamed: 0'], axis=1)\n"
   ]
  },
  {
   "cell_type": "code",
   "execution_count": 94,
   "id": "5388fb8c-c41a-4219-895c-acff434d3fb2",
   "metadata": {},
   "outputs": [
    {
     "data": {
      "text/html": [
       "<div>\n",
       "<style scoped>\n",
       "    .dataframe tbody tr th:only-of-type {\n",
       "        vertical-align: middle;\n",
       "    }\n",
       "\n",
       "    .dataframe tbody tr th {\n",
       "        vertical-align: top;\n",
       "    }\n",
       "\n",
       "    .dataframe thead th {\n",
       "        text-align: right;\n",
       "    }\n",
       "</style>\n",
       "<table border=\"1\" class=\"dataframe\">\n",
       "  <thead>\n",
       "    <tr style=\"text-align: right;\">\n",
       "      <th></th>\n",
       "      <th>order_id</th>\n",
       "      <th>user_id</th>\n",
       "      <th>order_number</th>\n",
       "      <th>order_dow</th>\n",
       "      <th>order_hour_of_day</th>\n",
       "      <th>days_since_prior_order</th>\n",
       "    </tr>\n",
       "  </thead>\n",
       "  <tbody>\n",
       "    <tr>\n",
       "      <th>0</th>\n",
       "      <td>2539329</td>\n",
       "      <td>1</td>\n",
       "      <td>1</td>\n",
       "      <td>2</td>\n",
       "      <td>8</td>\n",
       "      <td>0.0</td>\n",
       "    </tr>\n",
       "    <tr>\n",
       "      <th>1</th>\n",
       "      <td>2398795</td>\n",
       "      <td>1</td>\n",
       "      <td>2</td>\n",
       "      <td>3</td>\n",
       "      <td>7</td>\n",
       "      <td>15.0</td>\n",
       "    </tr>\n",
       "    <tr>\n",
       "      <th>2</th>\n",
       "      <td>473747</td>\n",
       "      <td>1</td>\n",
       "      <td>3</td>\n",
       "      <td>3</td>\n",
       "      <td>12</td>\n",
       "      <td>21.0</td>\n",
       "    </tr>\n",
       "    <tr>\n",
       "      <th>3</th>\n",
       "      <td>2254736</td>\n",
       "      <td>1</td>\n",
       "      <td>4</td>\n",
       "      <td>4</td>\n",
       "      <td>7</td>\n",
       "      <td>29.0</td>\n",
       "    </tr>\n",
       "    <tr>\n",
       "      <th>4</th>\n",
       "      <td>431534</td>\n",
       "      <td>1</td>\n",
       "      <td>5</td>\n",
       "      <td>4</td>\n",
       "      <td>15</td>\n",
       "      <td>28.0</td>\n",
       "    </tr>\n",
       "  </tbody>\n",
       "</table>\n",
       "</div>"
      ],
      "text/plain": [
       "   order_id  user_id  order_number  order_dow  order_hour_of_day  \\\n",
       "0   2539329        1             1          2                  8   \n",
       "1   2398795        1             2          3                  7   \n",
       "2    473747        1             3          3                 12   \n",
       "3   2254736        1             4          4                  7   \n",
       "4    431534        1             5          4                 15   \n",
       "\n",
       "   days_since_prior_order  \n",
       "0                     0.0  \n",
       "1                    15.0  \n",
       "2                    21.0  \n",
       "3                    29.0  \n",
       "4                    28.0  "
      ]
     },
     "execution_count": 94,
     "metadata": {},
     "output_type": "execute_result"
    }
   ],
   "source": [
    "df_ords.head()"
   ]
  },
  {
   "cell_type": "code",
   "execution_count": 96,
   "id": "aa8f1fdc-21b8-499f-919d-65a22dd41a01",
   "metadata": {},
   "outputs": [
    {
     "data": {
      "text/plain": [
       "(3421083, 6)"
      ]
     },
     "execution_count": 96,
     "metadata": {},
     "output_type": "execute_result"
    }
   ],
   "source": [
    "df_ords.shape"
   ]
  },
  {
   "cell_type": "code",
   "execution_count": 98,
   "id": "d475ca73-5ef6-4a0e-8925-6992bcd0486e",
   "metadata": {},
   "outputs": [],
   "source": [
    "#changing the data type to reduce the size of the file\n",
    "df_ords_prods_comb = df_ords_prods_prior.astype({\n",
    "    'order_id': 'int32',\n",
    "    'product_id': 'int32',\n",
    "    'add_to_cart_order': 'int8',\n",
    "    'reordered': 'int8',\n",
    "    })"
   ]
  },
  {
   "cell_type": "code",
   "execution_count": 100,
   "id": "558f4b22-def9-482d-bfeb-8df96074ae6a",
   "metadata": {},
   "outputs": [
    {
     "name": "stdout",
     "output_type": "stream",
     "text": [
      "<class 'pandas.core.frame.DataFrame'>\n",
      "RangeIndex: 32434489 entries, 0 to 32434488\n",
      "Data columns (total 4 columns):\n",
      " #   Column             Dtype\n",
      "---  ------             -----\n",
      " 0   order_id           int32\n",
      " 1   product_id         int32\n",
      " 2   add_to_cart_order  int8 \n",
      " 3   reordered          int8 \n",
      "dtypes: int32(2), int8(2)\n",
      "memory usage: 309.3 MB\n"
     ]
    }
   ],
   "source": [
    "df_ords_prods_comb.info()"
   ]
  },
  {
   "cell_type": "markdown",
   "id": "e2b729e1-e80e-4337-adc4-16f762ab7f74",
   "metadata": {},
   "source": [
    "# Above shows that memory usage has reduced to 309MB from 990 MB"
   ]
  },
  {
   "cell_type": "code",
   "execution_count": 102,
   "id": "99e0a3f8-9c62-49c2-83b4-7fac51ac724e",
   "metadata": {},
   "outputs": [],
   "source": [
    "#merge the dataframes\n",
    "df_merged_large = df_ords.merge(df_ords_prods_comb, on = 'order_id', indicator = True)"
   ]
  },
  {
   "cell_type": "code",
   "execution_count": 103,
   "id": "132c8be8-0f49-442e-95a9-83aaed33988f",
   "metadata": {},
   "outputs": [
    {
     "data": {
      "text/html": [
       "<div>\n",
       "<style scoped>\n",
       "    .dataframe tbody tr th:only-of-type {\n",
       "        vertical-align: middle;\n",
       "    }\n",
       "\n",
       "    .dataframe tbody tr th {\n",
       "        vertical-align: top;\n",
       "    }\n",
       "\n",
       "    .dataframe thead th {\n",
       "        text-align: right;\n",
       "    }\n",
       "</style>\n",
       "<table border=\"1\" class=\"dataframe\">\n",
       "  <thead>\n",
       "    <tr style=\"text-align: right;\">\n",
       "      <th></th>\n",
       "      <th>order_id</th>\n",
       "      <th>user_id</th>\n",
       "      <th>order_number</th>\n",
       "      <th>order_dow</th>\n",
       "      <th>order_hour_of_day</th>\n",
       "      <th>days_since_prior_order</th>\n",
       "      <th>product_id</th>\n",
       "      <th>add_to_cart_order</th>\n",
       "      <th>reordered</th>\n",
       "      <th>_merge</th>\n",
       "    </tr>\n",
       "  </thead>\n",
       "  <tbody>\n",
       "    <tr>\n",
       "      <th>0</th>\n",
       "      <td>2539329</td>\n",
       "      <td>1</td>\n",
       "      <td>1</td>\n",
       "      <td>2</td>\n",
       "      <td>8</td>\n",
       "      <td>0.0</td>\n",
       "      <td>196</td>\n",
       "      <td>1</td>\n",
       "      <td>0</td>\n",
       "      <td>both</td>\n",
       "    </tr>\n",
       "    <tr>\n",
       "      <th>1</th>\n",
       "      <td>2539329</td>\n",
       "      <td>1</td>\n",
       "      <td>1</td>\n",
       "      <td>2</td>\n",
       "      <td>8</td>\n",
       "      <td>0.0</td>\n",
       "      <td>14084</td>\n",
       "      <td>2</td>\n",
       "      <td>0</td>\n",
       "      <td>both</td>\n",
       "    </tr>\n",
       "    <tr>\n",
       "      <th>2</th>\n",
       "      <td>2539329</td>\n",
       "      <td>1</td>\n",
       "      <td>1</td>\n",
       "      <td>2</td>\n",
       "      <td>8</td>\n",
       "      <td>0.0</td>\n",
       "      <td>12427</td>\n",
       "      <td>3</td>\n",
       "      <td>0</td>\n",
       "      <td>both</td>\n",
       "    </tr>\n",
       "    <tr>\n",
       "      <th>3</th>\n",
       "      <td>2539329</td>\n",
       "      <td>1</td>\n",
       "      <td>1</td>\n",
       "      <td>2</td>\n",
       "      <td>8</td>\n",
       "      <td>0.0</td>\n",
       "      <td>26088</td>\n",
       "      <td>4</td>\n",
       "      <td>0</td>\n",
       "      <td>both</td>\n",
       "    </tr>\n",
       "    <tr>\n",
       "      <th>4</th>\n",
       "      <td>2539329</td>\n",
       "      <td>1</td>\n",
       "      <td>1</td>\n",
       "      <td>2</td>\n",
       "      <td>8</td>\n",
       "      <td>0.0</td>\n",
       "      <td>26405</td>\n",
       "      <td>5</td>\n",
       "      <td>0</td>\n",
       "      <td>both</td>\n",
       "    </tr>\n",
       "  </tbody>\n",
       "</table>\n",
       "</div>"
      ],
      "text/plain": [
       "   order_id  user_id  order_number  order_dow  order_hour_of_day  \\\n",
       "0   2539329        1             1          2                  8   \n",
       "1   2539329        1             1          2                  8   \n",
       "2   2539329        1             1          2                  8   \n",
       "3   2539329        1             1          2                  8   \n",
       "4   2539329        1             1          2                  8   \n",
       "\n",
       "   days_since_prior_order  product_id  add_to_cart_order  reordered _merge  \n",
       "0                     0.0         196                  1          0   both  \n",
       "1                     0.0       14084                  2          0   both  \n",
       "2                     0.0       12427                  3          0   both  \n",
       "3                     0.0       26088                  4          0   both  \n",
       "4                     0.0       26405                  5          0   both  "
      ]
     },
     "execution_count": 103,
     "metadata": {},
     "output_type": "execute_result"
    }
   ],
   "source": [
    "df_merged_large.head()"
   ]
  },
  {
   "cell_type": "code",
   "execution_count": 114,
   "id": "742be3fe-208f-4ef5-abdb-ca2bb5373c72",
   "metadata": {},
   "outputs": [
    {
     "data": {
      "text/plain": [
       "_merge\n",
       "both          32434489\n",
       "left_only            0\n",
       "right_only           0\n",
       "Name: count, dtype: int64"
      ]
     },
     "execution_count": 114,
     "metadata": {},
     "output_type": "execute_result"
    }
   ],
   "source": [
    "#checking if its a full match\n",
    "df_merged_large['_merge'].value_counts()"
   ]
  },
  {
   "cell_type": "code",
   "execution_count": 118,
   "id": "1d7197b8-e7cb-4f07-bb3c-e6346341460b",
   "metadata": {},
   "outputs": [
    {
     "data": {
      "text/plain": [
       "(32434489, 10)"
      ]
     },
     "execution_count": 118,
     "metadata": {},
     "output_type": "execute_result"
    }
   ],
   "source": [
    "df_merged_large.shape"
   ]
  },
  {
   "cell_type": "markdown",
   "id": "d6f827f6-14bc-4b15-af50-6a8d9decf0e0",
   "metadata": {},
   "source": [
    "## Exporting the merged dataframe"
   ]
  },
  {
   "cell_type": "code",
   "execution_count": 120,
   "id": "a71b4481-e5d0-4ee4-a89a-6992c2f73461",
   "metadata": {},
   "outputs": [],
   "source": [
    "df_merged_large.to_pickle(os.path.join(path, '02 Data','Prepared Data', 'orders_products_combined.pkl'))"
   ]
  },
  {
   "cell_type": "code",
   "execution_count": 122,
   "id": "0277583c-9d48-46a3-8ab4-0b550f59245e",
   "metadata": {},
   "outputs": [
    {
     "data": {
      "text/html": [
       "<div>\n",
       "<style scoped>\n",
       "    .dataframe tbody tr th:only-of-type {\n",
       "        vertical-align: middle;\n",
       "    }\n",
       "\n",
       "    .dataframe tbody tr th {\n",
       "        vertical-align: top;\n",
       "    }\n",
       "\n",
       "    .dataframe thead th {\n",
       "        text-align: right;\n",
       "    }\n",
       "</style>\n",
       "<table border=\"1\" class=\"dataframe\">\n",
       "  <thead>\n",
       "    <tr style=\"text-align: right;\">\n",
       "      <th></th>\n",
       "      <th>order_id</th>\n",
       "      <th>user_id</th>\n",
       "      <th>order_number</th>\n",
       "      <th>order_dow</th>\n",
       "      <th>order_hour_of_day</th>\n",
       "      <th>days_since_prior_order</th>\n",
       "      <th>product_id</th>\n",
       "      <th>add_to_cart_order</th>\n",
       "      <th>reordered</th>\n",
       "      <th>_merge</th>\n",
       "    </tr>\n",
       "  </thead>\n",
       "  <tbody>\n",
       "    <tr>\n",
       "      <th>0</th>\n",
       "      <td>2539329</td>\n",
       "      <td>1</td>\n",
       "      <td>1</td>\n",
       "      <td>2</td>\n",
       "      <td>8</td>\n",
       "      <td>0.0</td>\n",
       "      <td>196</td>\n",
       "      <td>1</td>\n",
       "      <td>0</td>\n",
       "      <td>both</td>\n",
       "    </tr>\n",
       "    <tr>\n",
       "      <th>1</th>\n",
       "      <td>2539329</td>\n",
       "      <td>1</td>\n",
       "      <td>1</td>\n",
       "      <td>2</td>\n",
       "      <td>8</td>\n",
       "      <td>0.0</td>\n",
       "      <td>14084</td>\n",
       "      <td>2</td>\n",
       "      <td>0</td>\n",
       "      <td>both</td>\n",
       "    </tr>\n",
       "    <tr>\n",
       "      <th>2</th>\n",
       "      <td>2539329</td>\n",
       "      <td>1</td>\n",
       "      <td>1</td>\n",
       "      <td>2</td>\n",
       "      <td>8</td>\n",
       "      <td>0.0</td>\n",
       "      <td>12427</td>\n",
       "      <td>3</td>\n",
       "      <td>0</td>\n",
       "      <td>both</td>\n",
       "    </tr>\n",
       "    <tr>\n",
       "      <th>3</th>\n",
       "      <td>2539329</td>\n",
       "      <td>1</td>\n",
       "      <td>1</td>\n",
       "      <td>2</td>\n",
       "      <td>8</td>\n",
       "      <td>0.0</td>\n",
       "      <td>26088</td>\n",
       "      <td>4</td>\n",
       "      <td>0</td>\n",
       "      <td>both</td>\n",
       "    </tr>\n",
       "    <tr>\n",
       "      <th>4</th>\n",
       "      <td>2539329</td>\n",
       "      <td>1</td>\n",
       "      <td>1</td>\n",
       "      <td>2</td>\n",
       "      <td>8</td>\n",
       "      <td>0.0</td>\n",
       "      <td>26405</td>\n",
       "      <td>5</td>\n",
       "      <td>0</td>\n",
       "      <td>both</td>\n",
       "    </tr>\n",
       "  </tbody>\n",
       "</table>\n",
       "</div>"
      ],
      "text/plain": [
       "   order_id  user_id  order_number  order_dow  order_hour_of_day  \\\n",
       "0   2539329        1             1          2                  8   \n",
       "1   2539329        1             1          2                  8   \n",
       "2   2539329        1             1          2                  8   \n",
       "3   2539329        1             1          2                  8   \n",
       "4   2539329        1             1          2                  8   \n",
       "\n",
       "   days_since_prior_order  product_id  add_to_cart_order  reordered _merge  \n",
       "0                     0.0         196                  1          0   both  \n",
       "1                     0.0       14084                  2          0   both  \n",
       "2                     0.0       12427                  3          0   both  \n",
       "3                     0.0       26088                  4          0   both  \n",
       "4                     0.0       26405                  5          0   both  "
      ]
     },
     "execution_count": 122,
     "metadata": {},
     "output_type": "execute_result"
    }
   ],
   "source": [
    "df_merged_large.head()"
   ]
  },
  {
   "cell_type": "code",
   "execution_count": null,
   "id": "4923205b-c568-4f56-af5e-8b2fdc2a3735",
   "metadata": {},
   "outputs": [],
   "source": []
  }
 ],
 "metadata": {
  "kernelspec": {
   "display_name": "Python 3 (ipykernel)",
   "language": "python",
   "name": "python3"
  },
  "language_info": {
   "codemirror_mode": {
    "name": "ipython",
    "version": 3
   },
   "file_extension": ".py",
   "mimetype": "text/x-python",
   "name": "python",
   "nbconvert_exporter": "python",
   "pygments_lexer": "ipython3",
   "version": "3.12.4"
  }
 },
 "nbformat": 4,
 "nbformat_minor": 5
}
